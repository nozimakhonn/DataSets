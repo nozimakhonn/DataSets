{
  "metadata": {
    "kernelspec": {
      "name": "python",
      "display_name": "Python (Pyodide)",
      "language": "python"
    },
    "language_info": {
      "codemirror_mode": {
        "name": "python",
        "version": 3
      },
      "file_extension": ".py",
      "mimetype": "text/x-python",
      "name": "python",
      "nbconvert_exporter": "python",
      "pygments_lexer": "ipython3",
      "version": "3.8"
    }
  },
  "nbformat_minor": 4,
  "nbformat": 4,
  "cells": [
    {
      "cell_type": "code",
      "source": "import pandas as pd\ndf = pd.read_csv('movies.csv')",
      "metadata": {
        "trusted": true
      },
      "outputs": [],
      "execution_count": 26
    },
    {
      "cell_type": "code",
      "source": "df['YEAR'].value_counts()",
      "metadata": {
        "trusted": true
      },
      "outputs": [
        {
          "execution_count": 27,
          "output_type": "execute_result",
          "data": {
            "text/plain": "YEAR\n(2020– )           892\n(2021– )           658\n(2020)             639\n(2019– )           549\n(2019)             544\n                  ... \n(1999– )             1\n(I) (2013–2016)      1\n(2002–2005)          1\n(2010–2015)          1\n(1985– )             1\nName: count, Length: 438, dtype: int64"
          },
          "metadata": {}
        }
      ],
      "execution_count": 27
    },
    {
      "cell_type": "code",
      "source": "df.info()",
      "metadata": {
        "trusted": true
      },
      "outputs": [
        {
          "name": "stdout",
          "text": "<class 'pandas.core.frame.DataFrame'>\nRangeIndex: 9999 entries, 0 to 9998\nData columns (total 9 columns):\n #   Column    Non-Null Count  Dtype  \n---  ------    --------------  -----  \n 0   MOVIES    9999 non-null   object \n 1   YEAR      9355 non-null   object \n 2   GENRE     9919 non-null   object \n 3   RATING    8179 non-null   float64\n 4   ONE-LINE  9999 non-null   object \n 5   STARS     9999 non-null   object \n 6   VOTES     8179 non-null   object \n 7   RunTime   7041 non-null   float64\n 8   Gross     460 non-null    object \ndtypes: float64(2), object(7)\nmemory usage: 429.7+ KB\n",
          "output_type": "stream"
        }
      ],
      "execution_count": 28
    },
    {
      "cell_type": "code",
      "source": "def year_clean(value):\n    try:\n        return int(value)\n    except:\n        return 0\ndf['YEAR'] = df['YEAR'].apply(year_clean)",
      "metadata": {
        "trusted": true
      },
      "outputs": [],
      "execution_count": 29
    },
    {
      "cell_type": "code",
      "source": "df.info()",
      "metadata": {
        "trusted": true
      },
      "outputs": [
        {
          "name": "stdout",
          "text": "<class 'pandas.core.frame.DataFrame'>\nRangeIndex: 9999 entries, 0 to 9998\nData columns (total 9 columns):\n #   Column    Non-Null Count  Dtype  \n---  ------    --------------  -----  \n 0   MOVIES    9999 non-null   object \n 1   YEAR      9999 non-null   int64  \n 2   GENRE     9919 non-null   object \n 3   RATING    8179 non-null   float64\n 4   ONE-LINE  9999 non-null   object \n 5   STARS     9999 non-null   object \n 6   VOTES     8179 non-null   object \n 7   RunTime   7041 non-null   float64\n 8   Gross     460 non-null    object \ndtypes: float64(2), int64(1), object(6)\nmemory usage: 468.8+ KB\n",
          "output_type": "stream"
        }
      ],
      "execution_count": 30
    },
    {
      "cell_type": "code",
      "source": "def genre_clean(value):\n    try:\n        return float(value)\n    except:\n        return 0\ndf['GENRE'] = df['GENRE'].apply(genre_clean)",
      "metadata": {
        "trusted": true
      },
      "outputs": [],
      "execution_count": 31
    },
    {
      "cell_type": "code",
      "source": "df.info()",
      "metadata": {
        "trusted": true
      },
      "outputs": [
        {
          "name": "stdout",
          "text": "<class 'pandas.core.frame.DataFrame'>\nRangeIndex: 9999 entries, 0 to 9998\nData columns (total 9 columns):\n #   Column    Non-Null Count  Dtype  \n---  ------    --------------  -----  \n 0   MOVIES    9999 non-null   object \n 1   YEAR      9999 non-null   int64  \n 2   GENRE     9919 non-null   float64\n 3   RATING    8179 non-null   float64\n 4   ONE-LINE  9999 non-null   object \n 5   STARS     9999 non-null   object \n 6   VOTES     8179 non-null   object \n 7   RunTime   7041 non-null   float64\n 8   Gross     460 non-null    object \ndtypes: float64(3), int64(1), object(5)\nmemory usage: 507.8+ KB\n",
          "output_type": "stream"
        }
      ],
      "execution_count": 32
    },
    {
      "cell_type": "code",
      "source": "avr_genre = df['GENRE'].mean()",
      "metadata": {
        "trusted": true
      },
      "outputs": [],
      "execution_count": 33
    },
    {
      "cell_type": "code",
      "source": "df['GENRE'] = df['GENRE'].fillna(avr_genre)",
      "metadata": {
        "trusted": true
      },
      "outputs": [],
      "execution_count": 34
    },
    {
      "cell_type": "code",
      "source": "df.info()",
      "metadata": {
        "trusted": true
      },
      "outputs": [
        {
          "name": "stdout",
          "text": "<class 'pandas.core.frame.DataFrame'>\nRangeIndex: 9999 entries, 0 to 9998\nData columns (total 9 columns):\n #   Column    Non-Null Count  Dtype  \n---  ------    --------------  -----  \n 0   MOVIES    9999 non-null   object \n 1   YEAR      9999 non-null   int64  \n 2   GENRE     9999 non-null   float64\n 3   RATING    8179 non-null   float64\n 4   ONE-LINE  9999 non-null   object \n 5   STARS     9999 non-null   object \n 6   VOTES     8179 non-null   object \n 7   RunTime   7041 non-null   float64\n 8   Gross     460 non-null    object \ndtypes: float64(3), int64(1), object(5)\nmemory usage: 507.8+ KB\n",
          "output_type": "stream"
        }
      ],
      "execution_count": 35
    },
    {
      "cell_type": "code",
      "source": "def votes_clean(value):\n    try:\n        value = str(value).replace(',' , '')\n        return int(value)\n    except:\n        return 0\ndf['VOTES'] = df['VOTES'].apply(votes_clean)",
      "metadata": {
        "trusted": true
      },
      "outputs": [],
      "execution_count": 36
    },
    {
      "cell_type": "code",
      "source": "df.info()",
      "metadata": {
        "trusted": true
      },
      "outputs": [
        {
          "name": "stdout",
          "text": "<class 'pandas.core.frame.DataFrame'>\nRangeIndex: 9999 entries, 0 to 9998\nData columns (total 9 columns):\n #   Column    Non-Null Count  Dtype  \n---  ------    --------------  -----  \n 0   MOVIES    9999 non-null   object \n 1   YEAR      9999 non-null   int64  \n 2   GENRE     9999 non-null   float64\n 3   RATING    8179 non-null   float64\n 4   ONE-LINE  9999 non-null   object \n 5   STARS     9999 non-null   object \n 6   VOTES     9999 non-null   int64  \n 7   RunTime   7041 non-null   float64\n 8   Gross     460 non-null    object \ndtypes: float64(3), int64(2), object(4)\nmemory usage: 546.9+ KB\n",
          "output_type": "stream"
        }
      ],
      "execution_count": 37
    },
    {
      "cell_type": "code",
      "source": "def runtime_clean(value):\n        try:\n            return int(value)  \n        except:\n            return 0\ndf['RunTime'] = df['RunTime'].apply(runtime_clean)",
      "metadata": {
        "trusted": true
      },
      "outputs": [],
      "execution_count": 38
    },
    {
      "cell_type": "code",
      "source": "df.info()",
      "metadata": {
        "trusted": true
      },
      "outputs": [
        {
          "name": "stdout",
          "text": "<class 'pandas.core.frame.DataFrame'>\nRangeIndex: 9999 entries, 0 to 9998\nData columns (total 9 columns):\n #   Column    Non-Null Count  Dtype  \n---  ------    --------------  -----  \n 0   MOVIES    9999 non-null   object \n 1   YEAR      9999 non-null   int64  \n 2   GENRE     9999 non-null   float64\n 3   RATING    8179 non-null   float64\n 4   ONE-LINE  9999 non-null   object \n 5   STARS     9999 non-null   object \n 6   VOTES     9999 non-null   int64  \n 7   RunTime   9999 non-null   int64  \n 8   Gross     460 non-null    object \ndtypes: float64(2), int64(3), object(4)\nmemory usage: 546.9+ KB\n",
          "output_type": "stream"
        }
      ],
      "execution_count": 39
    },
    {
      "cell_type": "code",
      "source": "def gross_clean(value):\n    try:\n        value = str(value) \n        value = value.replace(',', '').replace('$', '')\n\n        if 'M' in value: \n            return float(value.replace('M', '') ) * 1000000\n        elif 'K' in value:  \n            return float(value.replace('K', '')) * 1000\n        else:\n            return float(value) \n    except:\n        return 0\n\ndf['Gross'] = df['Gross'].apply(gross_clean)\n",
      "metadata": {
        "trusted": true
      },
      "outputs": [],
      "execution_count": 40
    },
    {
      "cell_type": "code",
      "source": "df.info()",
      "metadata": {
        "trusted": true
      },
      "outputs": [
        {
          "name": "stdout",
          "text": "<class 'pandas.core.frame.DataFrame'>\nRangeIndex: 9999 entries, 0 to 9998\nData columns (total 9 columns):\n #   Column    Non-Null Count  Dtype  \n---  ------    --------------  -----  \n 0   MOVIES    9999 non-null   object \n 1   YEAR      9999 non-null   int64  \n 2   GENRE     9999 non-null   float64\n 3   RATING    8179 non-null   float64\n 4   ONE-LINE  9999 non-null   object \n 5   STARS     9999 non-null   object \n 6   VOTES     9999 non-null   int64  \n 7   RunTime   9999 non-null   int64  \n 8   Gross     460 non-null    float64\ndtypes: float64(3), int64(3), object(3)\nmemory usage: 585.9+ KB\n",
          "output_type": "stream"
        }
      ],
      "execution_count": 41
    },
    {
      "cell_type": "code",
      "source": "avr_gross = df['Gross'].mean()\ndf['Gross'] = df['Gross'].fillna(avr_gross)",
      "metadata": {
        "trusted": true
      },
      "outputs": [],
      "execution_count": 42
    },
    {
      "cell_type": "code",
      "source": "avr_rating = df['RATING'].mean()",
      "metadata": {
        "trusted": true
      },
      "outputs": [],
      "execution_count": 43
    },
    {
      "cell_type": "code",
      "source": "df['RATING'] = df['RATING'].fillna(avr_rating)",
      "metadata": {
        "trusted": true
      },
      "outputs": [],
      "execution_count": 44
    },
    {
      "cell_type": "code",
      "source": "df.info()",
      "metadata": {
        "trusted": true
      },
      "outputs": [
        {
          "name": "stdout",
          "text": "<class 'pandas.core.frame.DataFrame'>\nRangeIndex: 9999 entries, 0 to 9998\nData columns (total 9 columns):\n #   Column    Non-Null Count  Dtype  \n---  ------    --------------  -----  \n 0   MOVIES    9999 non-null   object \n 1   YEAR      9999 non-null   int64  \n 2   GENRE     9999 non-null   float64\n 3   RATING    9999 non-null   float64\n 4   ONE-LINE  9999 non-null   object \n 5   STARS     9999 non-null   object \n 6   VOTES     9999 non-null   int64  \n 7   RunTime   9999 non-null   int64  \n 8   Gross     9999 non-null   float64\ndtypes: float64(3), int64(3), object(3)\nmemory usage: 585.9+ KB\n",
          "output_type": "stream"
        }
      ],
      "execution_count": 45
    },
    {
      "cell_type": "code",
      "source": "",
      "metadata": {
        "trusted": true
      },
      "outputs": [],
      "execution_count": null
    },
    {
      "cell_type": "code",
      "source": "",
      "metadata": {
        "trusted": true
      },
      "outputs": [],
      "execution_count": null
    },
    {
      "cell_type": "code",
      "source": "",
      "metadata": {
        "trusted": true
      },
      "outputs": [],
      "execution_count": null
    },
    {
      "cell_type": "code",
      "source": "",
      "metadata": {
        "trusted": true
      },
      "outputs": [],
      "execution_count": null
    },
    {
      "cell_type": "code",
      "source": "",
      "metadata": {
        "trusted": true
      },
      "outputs": [],
      "execution_count": null
    }
  ]
}