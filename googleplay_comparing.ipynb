{
  "metadata": {
    "kernelspec": {
      "name": "python",
      "display_name": "Python (Pyodide)",
      "language": "python"
    },
    "language_info": {
      "codemirror_mode": {
        "name": "python",
        "version": 3
      },
      "file_extension": ".py",
      "mimetype": "text/x-python",
      "name": "python",
      "nbconvert_exporter": "python",
      "pygments_lexer": "ipython3",
      "version": "3.8"
    }
  },
  "nbformat_minor": 4,
  "nbformat": 4,
  "cells": [
    {
      "cell_type": "code",
      "source": "import pandas as pd",
      "metadata": {
        "trusted": true
      },
      "outputs": [],
      "execution_count": 2
    },
    {
      "cell_type": "code",
      "source": "df = pd.read_csv('GooglePlayStore_cleaned.csv')",
      "metadata": {
        "trusted": true
      },
      "outputs": [],
      "execution_count": 3
    },
    {
      "cell_type": "code",
      "source": "df.info()",
      "metadata": {
        "trusted": true
      },
      "outputs": [
        {
          "name": "stdout",
          "output_type": "stream",
          "text": "<class 'pandas.core.frame.DataFrame'>\nRangeIndex: 9658 entries, 0 to 9657\nData columns (total 15 columns):\n #   Column          Non-Null Count  Dtype  \n---  ------          --------------  -----  \n 0   Unnamed: 0      9658 non-null   int64  \n 1   app             9658 non-null   object \n 2   category        9658 non-null   object \n 3   rating          9658 non-null   float64\n 4   reviews         9658 non-null   int64  \n 5   installs        9658 non-null   int64  \n 6   type            9658 non-null   object \n 7   price           9658 non-null   float64\n 8   content_rating  9658 non-null   object \n 9   genres          9658 non-null   object \n 10  current_ver     9658 non-null   object \n 11  android_ver     9658 non-null   object \n 12  size(kb)        9658 non-null   float64\n 13  update_month    9658 non-null   int64  \n 14  update_year     9658 non-null   int64  \ndtypes: float64(3), int64(5), object(7)\nmemory usage: 867.8+ KB\n"
        }
      ],
      "execution_count": 4
    },
    {
      "cell_type": "code",
      "source": "df.head()",
      "metadata": {
        "trusted": true
      },
      "outputs": [
        {
          "execution_count": 5,
          "output_type": "execute_result",
          "data": {
            "text/plain": "   Unnamed: 0                                                app  \\\n0           0     Photo Editor & Candy Camera & Grid & ScrapBook   \n1           1                                Coloring book moana   \n2           2  U Launcher Lite – FREE Live Cool Themes, Hide ...   \n3           3                              Sketch - Draw & Paint   \n4           4              Pixel Draw - Number Art Coloring Book   \n\n         category  rating  reviews  installs  type  price content_rating  \\\n0  ART_AND_DESIGN     4.1      159     10000  free    0.0       Everyone   \n1  ART_AND_DESIGN     3.9      967    500000  free    0.0       Everyone   \n2  ART_AND_DESIGN     4.7    87510   5000000  free    0.0       Everyone   \n3  ART_AND_DESIGN     4.5   215644  50000000  free    0.0           Teen   \n4  ART_AND_DESIGN     4.3      967    100000  free    0.0       Everyone   \n\n                      genres current_ver android_ver  size(kb)  update_month  \\\n0               Art & Design       1.0.0       4.0.3   19000.0             1   \n1  Art & Design;Pretend Play       2.0.0       4.0.3   14000.0             1   \n2               Art & Design       1.2.4       4.0.3       8.7             8   \n3               Art & Design         1.0         4.2   25000.0             6   \n4    Art & Design;Creativity         1.1         4.4       2.8             6   \n\n   update_year  \n0         2018  \n1         2018  \n2         2018  \n3         2018  \n4         2018  ",
            "text/html": "<div>\n<style scoped>\n    .dataframe tbody tr th:only-of-type {\n        vertical-align: middle;\n    }\n\n    .dataframe tbody tr th {\n        vertical-align: top;\n    }\n\n    .dataframe thead th {\n        text-align: right;\n    }\n</style>\n<table border=\"1\" class=\"dataframe\">\n  <thead>\n    <tr style=\"text-align: right;\">\n      <th></th>\n      <th>Unnamed: 0</th>\n      <th>app</th>\n      <th>category</th>\n      <th>rating</th>\n      <th>reviews</th>\n      <th>installs</th>\n      <th>type</th>\n      <th>price</th>\n      <th>content_rating</th>\n      <th>genres</th>\n      <th>current_ver</th>\n      <th>android_ver</th>\n      <th>size(kb)</th>\n      <th>update_month</th>\n      <th>update_year</th>\n    </tr>\n  </thead>\n  <tbody>\n    <tr>\n      <th>0</th>\n      <td>0</td>\n      <td>Photo Editor &amp; Candy Camera &amp; Grid &amp; ScrapBook</td>\n      <td>ART_AND_DESIGN</td>\n      <td>4.1</td>\n      <td>159</td>\n      <td>10000</td>\n      <td>free</td>\n      <td>0.0</td>\n      <td>Everyone</td>\n      <td>Art &amp; Design</td>\n      <td>1.0.0</td>\n      <td>4.0.3</td>\n      <td>19000.0</td>\n      <td>1</td>\n      <td>2018</td>\n    </tr>\n    <tr>\n      <th>1</th>\n      <td>1</td>\n      <td>Coloring book moana</td>\n      <td>ART_AND_DESIGN</td>\n      <td>3.9</td>\n      <td>967</td>\n      <td>500000</td>\n      <td>free</td>\n      <td>0.0</td>\n      <td>Everyone</td>\n      <td>Art &amp; Design;Pretend Play</td>\n      <td>2.0.0</td>\n      <td>4.0.3</td>\n      <td>14000.0</td>\n      <td>1</td>\n      <td>2018</td>\n    </tr>\n    <tr>\n      <th>2</th>\n      <td>2</td>\n      <td>U Launcher Lite – FREE Live Cool Themes, Hide ...</td>\n      <td>ART_AND_DESIGN</td>\n      <td>4.7</td>\n      <td>87510</td>\n      <td>5000000</td>\n      <td>free</td>\n      <td>0.0</td>\n      <td>Everyone</td>\n      <td>Art &amp; Design</td>\n      <td>1.2.4</td>\n      <td>4.0.3</td>\n      <td>8.7</td>\n      <td>8</td>\n      <td>2018</td>\n    </tr>\n    <tr>\n      <th>3</th>\n      <td>3</td>\n      <td>Sketch - Draw &amp; Paint</td>\n      <td>ART_AND_DESIGN</td>\n      <td>4.5</td>\n      <td>215644</td>\n      <td>50000000</td>\n      <td>free</td>\n      <td>0.0</td>\n      <td>Teen</td>\n      <td>Art &amp; Design</td>\n      <td>1.0</td>\n      <td>4.2</td>\n      <td>25000.0</td>\n      <td>6</td>\n      <td>2018</td>\n    </tr>\n    <tr>\n      <th>4</th>\n      <td>4</td>\n      <td>Pixel Draw - Number Art Coloring Book</td>\n      <td>ART_AND_DESIGN</td>\n      <td>4.3</td>\n      <td>967</td>\n      <td>100000</td>\n      <td>free</td>\n      <td>0.0</td>\n      <td>Everyone</td>\n      <td>Art &amp; Design;Creativity</td>\n      <td>1.1</td>\n      <td>4.4</td>\n      <td>2.8</td>\n      <td>6</td>\n      <td>2018</td>\n    </tr>\n  </tbody>\n</table>\n</div>"
          },
          "metadata": {}
        }
      ],
      "execution_count": 5
    },
    {
      "cell_type": "code",
      "source": "df.tail()",
      "metadata": {
        "trusted": true
      },
      "outputs": [
        {
          "execution_count": 6,
          "output_type": "execute_result",
          "data": {
            "text/plain": "      Unnamed: 0                                            app  \\\n9653       10353                               Sya9a Maroc - FR   \n9654       10354               Fr. Mike Schmitz Audio Teachings   \n9655       10355                         Parkinson Exercices FR   \n9656       10356                  The SCP Foundation DB fr nn5n   \n9657       10357  iHoroscope - 2018 Daily Horoscope & Astrology   \n\n                 category  rating  reviews  installs  type  price  \\\n9653               FAMILY     4.5       38      5000  free    0.0   \n9654               FAMILY     5.0        4       100  free    0.0   \n9655              MEDICAL     4.3        3      1000  free    0.0   \n9656  BOOKS_AND_REFERENCE     4.5      114      1000  free    0.0   \n9657            LIFESTYLE     4.5   398307  10000000  free    0.0   \n\n     content_rating             genres current_ver android_ver      size(kb)  \\\n9653       Everyone          Education        1.48         4.1  53000.000000   \n9654       Everyone          Education         1.0         4.1      3.600000   \n9655       Everyone            Medical         1.0         2.2      9.500000   \n9656     Mature 17+  Books & Reference         1.0         4.1  18372.195837   \n9657       Everyone          Lifestyle         1.0         4.1  19000.000000   \n\n      update_month  update_year  \n9653             7         2017  \n9654             7         2018  \n9655             1         2017  \n9656             1         2015  \n9657             7         2018  ",
            "text/html": "<div>\n<style scoped>\n    .dataframe tbody tr th:only-of-type {\n        vertical-align: middle;\n    }\n\n    .dataframe tbody tr th {\n        vertical-align: top;\n    }\n\n    .dataframe thead th {\n        text-align: right;\n    }\n</style>\n<table border=\"1\" class=\"dataframe\">\n  <thead>\n    <tr style=\"text-align: right;\">\n      <th></th>\n      <th>Unnamed: 0</th>\n      <th>app</th>\n      <th>category</th>\n      <th>rating</th>\n      <th>reviews</th>\n      <th>installs</th>\n      <th>type</th>\n      <th>price</th>\n      <th>content_rating</th>\n      <th>genres</th>\n      <th>current_ver</th>\n      <th>android_ver</th>\n      <th>size(kb)</th>\n      <th>update_month</th>\n      <th>update_year</th>\n    </tr>\n  </thead>\n  <tbody>\n    <tr>\n      <th>9653</th>\n      <td>10353</td>\n      <td>Sya9a Maroc - FR</td>\n      <td>FAMILY</td>\n      <td>4.5</td>\n      <td>38</td>\n      <td>5000</td>\n      <td>free</td>\n      <td>0.0</td>\n      <td>Everyone</td>\n      <td>Education</td>\n      <td>1.48</td>\n      <td>4.1</td>\n      <td>53000.000000</td>\n      <td>7</td>\n      <td>2017</td>\n    </tr>\n    <tr>\n      <th>9654</th>\n      <td>10354</td>\n      <td>Fr. Mike Schmitz Audio Teachings</td>\n      <td>FAMILY</td>\n      <td>5.0</td>\n      <td>4</td>\n      <td>100</td>\n      <td>free</td>\n      <td>0.0</td>\n      <td>Everyone</td>\n      <td>Education</td>\n      <td>1.0</td>\n      <td>4.1</td>\n      <td>3.600000</td>\n      <td>7</td>\n      <td>2018</td>\n    </tr>\n    <tr>\n      <th>9655</th>\n      <td>10355</td>\n      <td>Parkinson Exercices FR</td>\n      <td>MEDICAL</td>\n      <td>4.3</td>\n      <td>3</td>\n      <td>1000</td>\n      <td>free</td>\n      <td>0.0</td>\n      <td>Everyone</td>\n      <td>Medical</td>\n      <td>1.0</td>\n      <td>2.2</td>\n      <td>9.500000</td>\n      <td>1</td>\n      <td>2017</td>\n    </tr>\n    <tr>\n      <th>9656</th>\n      <td>10356</td>\n      <td>The SCP Foundation DB fr nn5n</td>\n      <td>BOOKS_AND_REFERENCE</td>\n      <td>4.5</td>\n      <td>114</td>\n      <td>1000</td>\n      <td>free</td>\n      <td>0.0</td>\n      <td>Mature 17+</td>\n      <td>Books &amp; Reference</td>\n      <td>1.0</td>\n      <td>4.1</td>\n      <td>18372.195837</td>\n      <td>1</td>\n      <td>2015</td>\n    </tr>\n    <tr>\n      <th>9657</th>\n      <td>10357</td>\n      <td>iHoroscope - 2018 Daily Horoscope &amp; Astrology</td>\n      <td>LIFESTYLE</td>\n      <td>4.5</td>\n      <td>398307</td>\n      <td>10000000</td>\n      <td>free</td>\n      <td>0.0</td>\n      <td>Everyone</td>\n      <td>Lifestyle</td>\n      <td>1.0</td>\n      <td>4.1</td>\n      <td>19000.000000</td>\n      <td>7</td>\n      <td>2018</td>\n    </tr>\n  </tbody>\n</table>\n</div>"
          },
          "metadata": {}
        }
      ],
      "execution_count": 6
    },
    {
      "cell_type": "code",
      "source": "df.describe()",
      "metadata": {
        "trusted": true
      },
      "outputs": [
        {
          "execution_count": 7,
          "output_type": "execute_result",
          "data": {
            "text/plain": "         Unnamed: 0       rating       reviews      installs        price  \\\ncount   9658.000000  9658.000000  9.658000e+03  9.658000e+03  9658.000000   \nmean    5273.607890     4.192431  2.166150e+05  7.778312e+06     1.099413   \nstd     2991.145456     0.496422  1.831413e+06  5.376100e+07    16.853021   \nmin        0.000000     1.000000  0.000000e+00  0.000000e+00     0.000000   \n25%     2716.250000     4.000000  2.500000e+01  1.000000e+03     0.000000   \n50%     5356.500000     4.300000  9.670000e+02  1.000000e+05     0.000000   \n75%     7855.750000     4.500000  2.940800e+04  1.000000e+06     0.000000   \nmax    10357.000000     5.000000  7.815831e+07  1.000000e+09   400.000000   \n\n            size(kb)  update_month  update_year  \ncount    9658.000000   9658.000000   9658.00000  \nmean    18372.195837      6.364051   2017.34562  \nstd     21763.543700      2.659746      1.13764  \nmin         1.000000      1.000000   2010.00000  \n25%         6.200000      5.000000   2017.00000  \n50%     16000.000000      7.000000   2018.00000  \n75%     25000.000000      8.000000   2018.00000  \nmax    100000.000000     12.000000   2018.00000  ",
            "text/html": "<div>\n<style scoped>\n    .dataframe tbody tr th:only-of-type {\n        vertical-align: middle;\n    }\n\n    .dataframe tbody tr th {\n        vertical-align: top;\n    }\n\n    .dataframe thead th {\n        text-align: right;\n    }\n</style>\n<table border=\"1\" class=\"dataframe\">\n  <thead>\n    <tr style=\"text-align: right;\">\n      <th></th>\n      <th>Unnamed: 0</th>\n      <th>rating</th>\n      <th>reviews</th>\n      <th>installs</th>\n      <th>price</th>\n      <th>size(kb)</th>\n      <th>update_month</th>\n      <th>update_year</th>\n    </tr>\n  </thead>\n  <tbody>\n    <tr>\n      <th>count</th>\n      <td>9658.000000</td>\n      <td>9658.000000</td>\n      <td>9.658000e+03</td>\n      <td>9.658000e+03</td>\n      <td>9658.000000</td>\n      <td>9658.000000</td>\n      <td>9658.000000</td>\n      <td>9658.00000</td>\n    </tr>\n    <tr>\n      <th>mean</th>\n      <td>5273.607890</td>\n      <td>4.192431</td>\n      <td>2.166150e+05</td>\n      <td>7.778312e+06</td>\n      <td>1.099413</td>\n      <td>18372.195837</td>\n      <td>6.364051</td>\n      <td>2017.34562</td>\n    </tr>\n    <tr>\n      <th>std</th>\n      <td>2991.145456</td>\n      <td>0.496422</td>\n      <td>1.831413e+06</td>\n      <td>5.376100e+07</td>\n      <td>16.853021</td>\n      <td>21763.543700</td>\n      <td>2.659746</td>\n      <td>1.13764</td>\n    </tr>\n    <tr>\n      <th>min</th>\n      <td>0.000000</td>\n      <td>1.000000</td>\n      <td>0.000000e+00</td>\n      <td>0.000000e+00</td>\n      <td>0.000000</td>\n      <td>1.000000</td>\n      <td>1.000000</td>\n      <td>2010.00000</td>\n    </tr>\n    <tr>\n      <th>25%</th>\n      <td>2716.250000</td>\n      <td>4.000000</td>\n      <td>2.500000e+01</td>\n      <td>1.000000e+03</td>\n      <td>0.000000</td>\n      <td>6.200000</td>\n      <td>5.000000</td>\n      <td>2017.00000</td>\n    </tr>\n    <tr>\n      <th>50%</th>\n      <td>5356.500000</td>\n      <td>4.300000</td>\n      <td>9.670000e+02</td>\n      <td>1.000000e+05</td>\n      <td>0.000000</td>\n      <td>16000.000000</td>\n      <td>7.000000</td>\n      <td>2018.00000</td>\n    </tr>\n    <tr>\n      <th>75%</th>\n      <td>7855.750000</td>\n      <td>4.500000</td>\n      <td>2.940800e+04</td>\n      <td>1.000000e+06</td>\n      <td>0.000000</td>\n      <td>25000.000000</td>\n      <td>8.000000</td>\n      <td>2018.00000</td>\n    </tr>\n    <tr>\n      <th>max</th>\n      <td>10357.000000</td>\n      <td>5.000000</td>\n      <td>7.815831e+07</td>\n      <td>1.000000e+09</td>\n      <td>400.000000</td>\n      <td>100000.000000</td>\n      <td>12.000000</td>\n      <td>2018.00000</td>\n    </tr>\n  </tbody>\n</table>\n</div>"
          },
          "metadata": {}
        }
      ],
      "execution_count": 7
    },
    {
      "cell_type": "code",
      "source": "mean_rating = df['rating'].mean()\nprint(\"Average rating of apps:\", mean_rating)",
      "metadata": {
        "trusted": true
      },
      "outputs": [
        {
          "name": "stdout",
          "output_type": "stream",
          "text": "Average rating of apps: 4.192431145164631\n"
        }
      ],
      "execution_count": 8
    },
    {
      "cell_type": "code",
      "source": "max_rating = df['rating'].max()\nprint(\"Maximum rating of apps:\", max_rating)",
      "metadata": {
        "trusted": true
      },
      "outputs": [
        {
          "name": "stdout",
          "output_type": "stream",
          "text": "Maximum rating of apps: 5.0\n"
        }
      ],
      "execution_count": 9
    },
    {
      "cell_type": "code",
      "source": "median_rating = df['rating'].median()\nprint(\"Median rating of apps:\", median_rating)",
      "metadata": {
        "trusted": true
      },
      "outputs": [
        {
          "name": "stdout",
          "output_type": "stream",
          "text": "Median rating of apps: 4.3\n"
        }
      ],
      "execution_count": 10
    },
    {
      "cell_type": "code",
      "source": "mean_rating = df['installs'].mean()\nprint(\"Average rating of installations:\", mean_rating)",
      "metadata": {
        "trusted": true
      },
      "outputs": [
        {
          "name": "stdout",
          "output_type": "stream",
          "text": "Average rating of installations: 7778312.023917995\n"
        }
      ],
      "execution_count": 11
    },
    {
      "cell_type": "code",
      "source": "max_rating = df['installs'].max()\nprint(\"Maximum rating of installations:\", max_rating)",
      "metadata": {
        "trusted": true
      },
      "outputs": [
        {
          "name": "stdout",
          "output_type": "stream",
          "text": "Maximum rating of installations: 1000000000\n"
        }
      ],
      "execution_count": 12
    },
    {
      "cell_type": "code",
      "source": "median_rating = df['installs'].median()\nprint(\"Median rating of installations:\", median_rating)",
      "metadata": {
        "trusted": true
      },
      "outputs": [
        {
          "name": "stdout",
          "output_type": "stream",
          "text": "Median rating of installations: 100000.0\n"
        }
      ],
      "execution_count": 13
    },
    {
      "cell_type": "code",
      "source": "comparing = max_rating/median_rating\nprint(\"Rating of installations:\", comparing)",
      "metadata": {
        "trusted": true
      },
      "outputs": [
        {
          "name": "stdout",
          "output_type": "stream",
          "text": "Rating of installations: 10000.0\n"
        }
      ],
      "execution_count": 14
    },
    {
      "cell_type": "code",
      "source": "mean_rating = df['price'].mean()\nprint(\"Average rating of applications:\", mean_rating)",
      "metadata": {
        "trusted": true
      },
      "outputs": [
        {
          "name": "stdout",
          "output_type": "stream",
          "text": "Average rating of applications: 1.0994129219300064\n"
        }
      ],
      "execution_count": 15
    },
    {
      "cell_type": "code",
      "source": "max_rating = df['price'].max()\nprint(\"Maximum rating of applications:\", max_rating)",
      "metadata": {
        "trusted": true
      },
      "outputs": [
        {
          "name": "stdout",
          "output_type": "stream",
          "text": "Maximum rating of applications: 400.0\n"
        }
      ],
      "execution_count": 16
    },
    {
      "cell_type": "code",
      "source": "median_rating = df['price'].median()\nprint(\"Median rating of applications:\", median_rating)",
      "metadata": {
        "trusted": true
      },
      "outputs": [
        {
          "name": "stdout",
          "output_type": "stream",
          "text": "Median rating of applications: 0.0\n"
        }
      ],
      "execution_count": 17
    },
    {
      "cell_type": "code",
      "source": "comparing = max_rating/median_rating\nprint(\"Rating of applications:\", comparing)",
      "metadata": {
        "trusted": true
      },
      "outputs": [
        {
          "name": "stdout",
          "output_type": "stream",
          "text": "Rating of applications: inf\n"
        }
      ],
      "execution_count": 18
    },
    {
      "cell_type": "code",
      "source": "",
      "metadata": {
        "trusted": true
      },
      "outputs": [],
      "execution_count": null
    }
  ]
}