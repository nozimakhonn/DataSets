{
  "metadata": {
    "kernelspec": {
      "name": "python",
      "display_name": "Python (Pyodide)",
      "language": "python"
    },
    "language_info": {
      "codemirror_mode": {
        "name": "python",
        "version": 3
      },
      "file_extension": ".py",
      "mimetype": "text/x-python",
      "name": "python",
      "nbconvert_exporter": "python",
      "pygments_lexer": "ipython3",
      "version": "3.8"
    }
  },
  "nbformat_minor": 4,
  "nbformat": 4,
  "cells": [
    {
      "cell_type": "code",
      "source": "import pandas as pd\ndf = pd.read_csv('googleplaystore.csv')",
      "metadata": {
        "trusted": true
      },
      "outputs": [],
      "execution_count": 2
    },
    {
      "cell_type": "code",
      "source": "df['Size'].value_counts()",
      "metadata": {
        "trusted": true
      },
      "outputs": [
        {
          "execution_count": 3,
          "output_type": "execute_result",
          "data": {
            "text/plain": "Size\nVaries with device    1695\n11M                    198\n12M                    196\n14M                    194\n13M                    191\n                      ... \n429k                     1\n200k                     1\n460k                     1\n728k                     1\n619k                     1\nName: count, Length: 462, dtype: int64"
          },
          "metadata": {}
        }
      ],
      "execution_count": 3
    },
    {
      "cell_type": "code",
      "source": "def size_clean(value):\n    if isinstance(value, str): \n        value = value.replace(',', '').replace('+', '')  \n        if 'M' in value or 'm' in value:\n            result = value.replace('M', '').replace('m', '')\n            return float(result)\n        elif 'K' in value or 'k' in value:\n            result = value.replace('K', '').replace('k', '')\n            return float(result) / 1024  \n        elif value.lower() == 'varies with device':\n            return None\n        else:\n            try:\n                return float(value)\n            except:\n                return None\n    return None  \n\ndf['Size'] = df['Size'].apply(size_clean)\n",
      "metadata": {
        "trusted": true
      },
      "outputs": [],
      "execution_count": 4
    },
    {
      "cell_type": "code",
      "source": "df.info()",
      "metadata": {
        "trusted": true
      },
      "outputs": [
        {
          "name": "stdout",
          "output_type": "stream",
          "text": "<class 'pandas.core.frame.DataFrame'>\nRangeIndex: 10841 entries, 0 to 10840\nData columns (total 14 columns):\n #   Column          Non-Null Count  Dtype  \n---  ------          --------------  -----  \n 0   Unnamed: 0      10841 non-null  int64  \n 1   App             10841 non-null  object \n 2   Category        10841 non-null  object \n 3   Rating          9367 non-null   float64\n 4   Reviews         10841 non-null  object \n 5   Size            9146 non-null   float64\n 6   Installs        10841 non-null  object \n 7   Type            10840 non-null  object \n 8   Price           10841 non-null  object \n 9   Content Rating  10840 non-null  object \n 10  Genres          10841 non-null  object \n 11  Last Updated    10841 non-null  object \n 12  Current Ver     10833 non-null  object \n 13  Android Ver     10838 non-null  object \ndtypes: float64(2), int64(1), object(11)\nmemory usage: 720.0+ KB\n"
        }
      ],
      "execution_count": 5
    },
    {
      "cell_type": "code",
      "source": "def installs_clean(value):\n    if value == 'Free':  \n        return 0  \n    else:\n        result = value.replace(',', '').replace('+', '')\n        return int(result)\ndf['Installs'] = df['Installs'].apply(installs_clean)\n",
      "metadata": {
        "trusted": true
      },
      "outputs": [],
      "execution_count": 6
    },
    {
      "cell_type": "code",
      "source": "df['Installs'].value_counts()",
      "metadata": {
        "trusted": true
      },
      "outputs": [
        {
          "execution_count": 7,
          "output_type": "execute_result",
          "data": {
            "text/plain": "Installs\n1000000       1579\n10000000      1252\n100000        1169\n10000         1054\n1000           907\n5000000        752\n100            719\n500000         539\n50000          479\n5000           477\n100000000      409\n10             386\n500            330\n50000000       289\n50             205\n5               82\n500000000       72\n1               67\n1000000000      58\n0               16\nName: count, dtype: int64"
          },
          "metadata": {}
        }
      ],
      "execution_count": 7
    },
    {
      "cell_type": "code",
      "source": "df.info()",
      "metadata": {
        "trusted": true
      },
      "outputs": [
        {
          "name": "stdout",
          "output_type": "stream",
          "text": "<class 'pandas.core.frame.DataFrame'>\nRangeIndex: 10841 entries, 0 to 10840\nData columns (total 14 columns):\n #   Column          Non-Null Count  Dtype  \n---  ------          --------------  -----  \n 0   Unnamed: 0      10841 non-null  int64  \n 1   App             10841 non-null  object \n 2   Category        10841 non-null  object \n 3   Rating          9367 non-null   float64\n 4   Reviews         10841 non-null  object \n 5   Size            9146 non-null   float64\n 6   Installs        10841 non-null  int64  \n 7   Type            10840 non-null  object \n 8   Price           10841 non-null  object \n 9   Content Rating  10840 non-null  object \n 10  Genres          10841 non-null  object \n 11  Last Updated    10841 non-null  object \n 12  Current Ver     10833 non-null  object \n 13  Android Ver     10838 non-null  object \ndtypes: float64(2), int64(2), object(10)\nmemory usage: 762.3+ KB\n"
        }
      ],
      "execution_count": 8
    },
    {
      "cell_type": "code",
      "source": "df['Price'].value_counts()",
      "metadata": {
        "trusted": true
      },
      "outputs": [
        {
          "execution_count": 9,
          "output_type": "execute_result",
          "data": {
            "text/plain": "Price\n0          10040\n$0.99        148\n$2.99        129\n$1.99         73\n$4.99         72\n           ...  \n$1.75          1\n$14.00         1\n$4.85          1\n$46.99         1\n$1.04          1\nName: count, Length: 93, dtype: int64"
          },
          "metadata": {}
        }
      ],
      "execution_count": 9
    },
    {
      "cell_type": "code",
      "source": "def price_clean(value):\n    if '$' in value:\n        result = value.replace('$', '')\n        return float(result)\n    elif 'Everyone' in value:\n        return 0\n    if value == '0' or value == 0:\n        return 0.0\n    try:\n        value = str(value).replace('$', '')\n        return float(value)\n    except ValueError:\n        return None\ndf['Price'] = df['Price'].apply(price_clean)\n",
      "metadata": {
        "trusted": true
      },
      "outputs": [],
      "execution_count": 10
    },
    {
      "cell_type": "code",
      "source": "df.info()",
      "metadata": {
        "trusted": true
      },
      "outputs": [
        {
          "name": "stdout",
          "output_type": "stream",
          "text": "<class 'pandas.core.frame.DataFrame'>\nRangeIndex: 10841 entries, 0 to 10840\nData columns (total 14 columns):\n #   Column          Non-Null Count  Dtype  \n---  ------          --------------  -----  \n 0   Unnamed: 0      10841 non-null  int64  \n 1   App             10841 non-null  object \n 2   Category        10841 non-null  object \n 3   Rating          9367 non-null   float64\n 4   Reviews         10841 non-null  object \n 5   Size            9146 non-null   float64\n 6   Installs        10841 non-null  int64  \n 7   Type            10840 non-null  object \n 8   Price           10841 non-null  float64\n 9   Content Rating  10840 non-null  object \n 10  Genres          10841 non-null  object \n 11  Last Updated    10841 non-null  object \n 12  Current Ver     10833 non-null  object \n 13  Android Ver     10838 non-null  object \ndtypes: float64(3), int64(2), object(9)\nmemory usage: 804.7+ KB\n"
        }
      ],
      "execution_count": 11
    },
    {
      "cell_type": "code",
      "source": "df['Last Updated'].value_counts()",
      "metadata": {
        "trusted": true
      },
      "outputs": [
        {
          "execution_count": 12,
          "output_type": "execute_result",
          "data": {
            "text/plain": "Last Updated\n3-Aug-18     326\n2-Aug-18     304\n31-Jul-18    294\n1-Aug-18     285\n30-Jul-18    211\n            ... \n20-Mar-14      1\n7-Apr-15       1\n22-Sep-14      1\n3-Oct-15       1\n23-Mar-14      1\nName: count, Length: 1378, dtype: int64"
          },
          "metadata": {}
        }
      ],
      "execution_count": 12
    },
    {
      "cell_type": "code",
      "source": "df.info()",
      "metadata": {
        "trusted": true
      },
      "outputs": [
        {
          "name": "stdout",
          "output_type": "stream",
          "text": "<class 'pandas.core.frame.DataFrame'>\nRangeIndex: 10841 entries, 0 to 10840\nData columns (total 14 columns):\n #   Column          Non-Null Count  Dtype  \n---  ------          --------------  -----  \n 0   Unnamed: 0      10841 non-null  int64  \n 1   App             10841 non-null  object \n 2   Category        10841 non-null  object \n 3   Rating          9367 non-null   float64\n 4   Reviews         10841 non-null  object \n 5   Size            9146 non-null   float64\n 6   Installs        10841 non-null  int64  \n 7   Type            10840 non-null  object \n 8   Price           10841 non-null  float64\n 9   Content Rating  10840 non-null  object \n 10  Genres          10841 non-null  object \n 11  Last Updated    10841 non-null  object \n 12  Current Ver     10833 non-null  object \n 13  Android Ver     10838 non-null  object \ndtypes: float64(3), int64(2), object(9)\nmemory usage: 804.7+ KB\n"
        }
      ],
      "execution_count": 13
    },
    {
      "cell_type": "code",
      "source": "def update_year(value):\n    result = str(value)\n    result = result.split('-')\n    result = \"20\" + result[len(result)-1]\n    result = result.replace('.', '')\n    return int(result)\ndf['Last Updated'] = df['Last Updated'].apply(update_year)",
      "metadata": {
        "trusted": true
      },
      "outputs": [],
      "execution_count": 14
    },
    {
      "cell_type": "code",
      "source": "df.info()",
      "metadata": {
        "trusted": true
      },
      "outputs": [
        {
          "name": "stdout",
          "output_type": "stream",
          "text": "<class 'pandas.core.frame.DataFrame'>\nRangeIndex: 10841 entries, 0 to 10840\nData columns (total 14 columns):\n #   Column          Non-Null Count  Dtype  \n---  ------          --------------  -----  \n 0   Unnamed: 0      10841 non-null  int64  \n 1   App             10841 non-null  object \n 2   Category        10841 non-null  object \n 3   Rating          9367 non-null   float64\n 4   Reviews         10841 non-null  object \n 5   Size            9146 non-null   float64\n 6   Installs        10841 non-null  int64  \n 7   Type            10840 non-null  object \n 8   Price           10841 non-null  float64\n 9   Content Rating  10840 non-null  object \n 10  Genres          10841 non-null  object \n 11  Last Updated    10841 non-null  int64  \n 12  Current Ver     10833 non-null  object \n 13  Android Ver     10838 non-null  object \ndtypes: float64(3), int64(3), object(8)\nmemory usage: 847.0+ KB\n"
        }
      ],
      "execution_count": 15
    },
    {
      "cell_type": "code",
      "source": "df['Last Updated'].value_counts()",
      "metadata": {
        "trusted": true
      },
      "outputs": [
        {
          "execution_count": 16,
          "output_type": "execute_result",
          "data": {
            "text/plain": "Last Updated\n2018      7349\n2017      1867\n2016       804\n2015       459\n2014       209\n2013       110\n2012        26\n2011        15\n2010         1\n201019       1\nName: count, dtype: int64"
          },
          "metadata": {}
        }
      ],
      "execution_count": 16
    },
    {
      "cell_type": "code",
      "source": "def update_year(value):\n    result = str(value)\n    result = result.split('-')\n    result = \"20\" + result[len(result)-1]\n    result = result.replace('.', '')\n    return int(result)\ndf['Last Updated'] = df['Last Updated'].apply(update_year)",
      "metadata": {
        "trusted": true
      },
      "outputs": [],
      "execution_count": 17
    },
    {
      "cell_type": "code",
      "source": "df['Genres'].value_counts()",
      "metadata": {
        "trusted": true
      },
      "outputs": [
        {
          "execution_count": 18,
          "output_type": "execute_result",
          "data": {
            "text/plain": "Genres\nTools                     842\nEntertainment             623\nEducation                 549\nMedical                   463\nBusiness                  460\n                         ... \nArcade;Pretend Play         1\nCard;Brain Games            1\nLifestyle;Pretend Play      1\nComics;Creativity           1\nStrategy;Creativity         1\nName: count, Length: 120, dtype: int64"
          },
          "metadata": {}
        }
      ],
      "execution_count": 18
    },
    {
      "cell_type": "code",
      "source": "def genres_clean(value):\n    if ';' in value:\n        result = value.split(';')\n        return len(result)\n    else:\n        return 1\ndf['Genres'] = df['Genres'].apply(genres_clean)\n    \n        \n    ",
      "metadata": {
        "trusted": true
      },
      "outputs": [],
      "execution_count": 19
    },
    {
      "cell_type": "code",
      "source": "df['Genres'].value_counts()",
      "metadata": {
        "trusted": true
      },
      "outputs": [
        {
          "execution_count": 20,
          "output_type": "execute_result",
          "data": {
            "text/plain": "Genres\n1    10343\n2      498\nName: count, dtype: int64"
          },
          "metadata": {}
        }
      ],
      "execution_count": 20
    },
    {
      "cell_type": "code",
      "source": "df.info()",
      "metadata": {
        "trusted": true
      },
      "outputs": [
        {
          "name": "stdout",
          "output_type": "stream",
          "text": "<class 'pandas.core.frame.DataFrame'>\nRangeIndex: 10841 entries, 0 to 10840\nData columns (total 14 columns):\n #   Column          Non-Null Count  Dtype  \n---  ------          --------------  -----  \n 0   Unnamed: 0      10841 non-null  int64  \n 1   App             10841 non-null  object \n 2   Category        10841 non-null  object \n 3   Rating          9367 non-null   float64\n 4   Reviews         10841 non-null  object \n 5   Size            9146 non-null   float64\n 6   Installs        10841 non-null  int64  \n 7   Type            10840 non-null  object \n 8   Price           10841 non-null  float64\n 9   Content Rating  10840 non-null  object \n 10  Genres          10841 non-null  int64  \n 11  Last Updated    10841 non-null  int64  \n 12  Current Ver     10833 non-null  object \n 13  Android Ver     10838 non-null  object \ndtypes: float64(3), int64(4), object(7)\nmemory usage: 889.4+ KB\n"
        }
      ],
      "execution_count": 21
    },
    {
      "cell_type": "code",
      "source": "",
      "metadata": {
        "trusted": true
      },
      "outputs": [],
      "execution_count": null
    },
    {
      "cell_type": "code",
      "source": "",
      "metadata": {
        "trusted": true
      },
      "outputs": [],
      "execution_count": null
    }
  ]
}