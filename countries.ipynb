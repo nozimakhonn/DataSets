{
  "metadata": {
    "kernelspec": {
      "name": "python",
      "display_name": "Python (Pyodide)",
      "language": "python"
    },
    "language_info": {
      "codemirror_mode": {
        "name": "python",
        "version": 3
      },
      "file_extension": ".py",
      "mimetype": "text/x-python",
      "name": "python",
      "nbconvert_exporter": "python",
      "pygments_lexer": "ipython3",
      "version": "3.8"
    }
  },
  "nbformat_minor": 4,
  "nbformat": 4,
  "cells": [
    {
      "cell_type": "code",
      "source": "import pandas as pd\ndf = pd.read_csv('countries of the world.csv')",
      "metadata": {
        "trusted": true
      },
      "outputs": [],
      "execution_count": 27
    },
    {
      "cell_type": "code",
      "source": "df.info()",
      "metadata": {
        "trusted": true
      },
      "outputs": [
        {
          "name": "stdout",
          "text": "<class 'pandas.core.frame.DataFrame'>\nRangeIndex: 227 entries, 0 to 226\nData columns (total 20 columns):\n #   Column                              Non-Null Count  Dtype  \n---  ------                              --------------  -----  \n 0   Country                             227 non-null    object \n 1   Region                              227 non-null    object \n 2   Population                          227 non-null    int64  \n 3   Area (sq. mi.)                      227 non-null    int64  \n 4   Pop. Density (per sq. mi.)          227 non-null    object \n 5   Coastline (coast/area ratio)        227 non-null    object \n 6   Net migration                       224 non-null    object \n 7   Infant mortality (per 1000 births)  224 non-null    object \n 8   GDP ($ per capita)                  226 non-null    float64\n 9   Literacy (%)                        209 non-null    object \n 10  Phones (per 1000)                   223 non-null    object \n 11  Arable (%)                          225 non-null    object \n 12  Crops (%)                           225 non-null    object \n 13  Other (%)                           225 non-null    object \n 14  Climate                             205 non-null    object \n 15  Birthrate                           224 non-null    object \n 16  Deathrate                           223 non-null    object \n 17  Agriculture                         212 non-null    object \n 18  Industry                            211 non-null    object \n 19  Service                             212 non-null    object \ndtypes: float64(1), int64(2), object(17)\nmemory usage: 20.5+ KB\n",
          "output_type": "stream"
        }
      ],
      "execution_count": 28
    },
    {
      "cell_type": "code",
      "source": "df.head()",
      "metadata": {
        "trusted": true
      },
      "outputs": [
        {
          "execution_count": 29,
          "output_type": "execute_result",
          "data": {
            "text/plain": "           Country                               Region  Population  \\\n0     Afghanistan         ASIA (EX. NEAR EAST)             31056997   \n1         Albania   EASTERN EUROPE                          3581655   \n2         Algeria   NORTHERN AFRICA                        32930091   \n3  American Samoa   OCEANIA                                   57794   \n4         Andorra   WESTERN EUROPE                            71201   \n\n   Area (sq. mi.) Pop. Density (per sq. mi.) Coastline (coast/area ratio)  \\\n0          647500                       48,0                         0,00   \n1           28748                      124,6                         1,26   \n2         2381740                       13,8                         0,04   \n3             199                      290,4                        58,29   \n4             468                      152,1                         0,00   \n\n  Net migration Infant mortality (per 1000 births)  GDP ($ per capita)  \\\n0         23,06                             163,07               700.0   \n1         -4,93                              21,52              4500.0   \n2         -0,39                                 31              6000.0   \n3        -20,71                               9,27              8000.0   \n4           6,6                               4,05             19000.0   \n\n  Literacy (%) Phones (per 1000) Arable (%) Crops (%) Other (%) Climate  \\\n0         36,0               3,2      12,13      0,22     87,65       1   \n1         86,5              71,2      21,09      4,42     74,49       3   \n2         70,0              78,1       3,22      0,25     96,53       1   \n3         97,0             259,5         10        15        75       2   \n4        100,0             497,2       2,22         0     97,78       3   \n\n  Birthrate Deathrate Agriculture Industry Service  \n0      46,6     20,34        0,38     0,24    0,38  \n1     15,11      5,22       0,232    0,188   0,579  \n2     17,14      4,61       0,101      0,6   0,298  \n3     22,46      3,27         NaN      NaN     NaN  \n4      8,71      6,25         NaN      NaN     NaN  ",
            "text/html": "<div>\n<style scoped>\n    .dataframe tbody tr th:only-of-type {\n        vertical-align: middle;\n    }\n\n    .dataframe tbody tr th {\n        vertical-align: top;\n    }\n\n    .dataframe thead th {\n        text-align: right;\n    }\n</style>\n<table border=\"1\" class=\"dataframe\">\n  <thead>\n    <tr style=\"text-align: right;\">\n      <th></th>\n      <th>Country</th>\n      <th>Region</th>\n      <th>Population</th>\n      <th>Area (sq. mi.)</th>\n      <th>Pop. Density (per sq. mi.)</th>\n      <th>Coastline (coast/area ratio)</th>\n      <th>Net migration</th>\n      <th>Infant mortality (per 1000 births)</th>\n      <th>GDP ($ per capita)</th>\n      <th>Literacy (%)</th>\n      <th>Phones (per 1000)</th>\n      <th>Arable (%)</th>\n      <th>Crops (%)</th>\n      <th>Other (%)</th>\n      <th>Climate</th>\n      <th>Birthrate</th>\n      <th>Deathrate</th>\n      <th>Agriculture</th>\n      <th>Industry</th>\n      <th>Service</th>\n    </tr>\n  </thead>\n  <tbody>\n    <tr>\n      <th>0</th>\n      <td>Afghanistan</td>\n      <td>ASIA (EX. NEAR EAST)</td>\n      <td>31056997</td>\n      <td>647500</td>\n      <td>48,0</td>\n      <td>0,00</td>\n      <td>23,06</td>\n      <td>163,07</td>\n      <td>700.0</td>\n      <td>36,0</td>\n      <td>3,2</td>\n      <td>12,13</td>\n      <td>0,22</td>\n      <td>87,65</td>\n      <td>1</td>\n      <td>46,6</td>\n      <td>20,34</td>\n      <td>0,38</td>\n      <td>0,24</td>\n      <td>0,38</td>\n    </tr>\n    <tr>\n      <th>1</th>\n      <td>Albania</td>\n      <td>EASTERN EUROPE</td>\n      <td>3581655</td>\n      <td>28748</td>\n      <td>124,6</td>\n      <td>1,26</td>\n      <td>-4,93</td>\n      <td>21,52</td>\n      <td>4500.0</td>\n      <td>86,5</td>\n      <td>71,2</td>\n      <td>21,09</td>\n      <td>4,42</td>\n      <td>74,49</td>\n      <td>3</td>\n      <td>15,11</td>\n      <td>5,22</td>\n      <td>0,232</td>\n      <td>0,188</td>\n      <td>0,579</td>\n    </tr>\n    <tr>\n      <th>2</th>\n      <td>Algeria</td>\n      <td>NORTHERN AFRICA</td>\n      <td>32930091</td>\n      <td>2381740</td>\n      <td>13,8</td>\n      <td>0,04</td>\n      <td>-0,39</td>\n      <td>31</td>\n      <td>6000.0</td>\n      <td>70,0</td>\n      <td>78,1</td>\n      <td>3,22</td>\n      <td>0,25</td>\n      <td>96,53</td>\n      <td>1</td>\n      <td>17,14</td>\n      <td>4,61</td>\n      <td>0,101</td>\n      <td>0,6</td>\n      <td>0,298</td>\n    </tr>\n    <tr>\n      <th>3</th>\n      <td>American Samoa</td>\n      <td>OCEANIA</td>\n      <td>57794</td>\n      <td>199</td>\n      <td>290,4</td>\n      <td>58,29</td>\n      <td>-20,71</td>\n      <td>9,27</td>\n      <td>8000.0</td>\n      <td>97,0</td>\n      <td>259,5</td>\n      <td>10</td>\n      <td>15</td>\n      <td>75</td>\n      <td>2</td>\n      <td>22,46</td>\n      <td>3,27</td>\n      <td>NaN</td>\n      <td>NaN</td>\n      <td>NaN</td>\n    </tr>\n    <tr>\n      <th>4</th>\n      <td>Andorra</td>\n      <td>WESTERN EUROPE</td>\n      <td>71201</td>\n      <td>468</td>\n      <td>152,1</td>\n      <td>0,00</td>\n      <td>6,6</td>\n      <td>4,05</td>\n      <td>19000.0</td>\n      <td>100,0</td>\n      <td>497,2</td>\n      <td>2,22</td>\n      <td>0</td>\n      <td>97,78</td>\n      <td>3</td>\n      <td>8,71</td>\n      <td>6,25</td>\n      <td>NaN</td>\n      <td>NaN</td>\n      <td>NaN</td>\n    </tr>\n  </tbody>\n</table>\n</div>"
          },
          "metadata": {}
        }
      ],
      "execution_count": 29
    },
    {
      "cell_type": "code",
      "source": "df.describe()",
      "metadata": {
        "trusted": true
      },
      "outputs": [
        {
          "execution_count": 30,
          "output_type": "execute_result",
          "data": {
            "text/plain": "         Population  Area (sq. mi.)  GDP ($ per capita)\ncount  2.270000e+02    2.270000e+02          226.000000\nmean   2.874028e+07    5.982270e+05         9689.823009\nstd    1.178913e+08    1.790282e+06        10049.138513\nmin    7.026000e+03    2.000000e+00          500.000000\n25%    4.376240e+05    4.647500e+03         1900.000000\n50%    4.786994e+06    8.660000e+04         5550.000000\n75%    1.749777e+07    4.418110e+05        15700.000000\nmax    1.313974e+09    1.707520e+07        55100.000000",
            "text/html": "<div>\n<style scoped>\n    .dataframe tbody tr th:only-of-type {\n        vertical-align: middle;\n    }\n\n    .dataframe tbody tr th {\n        vertical-align: top;\n    }\n\n    .dataframe thead th {\n        text-align: right;\n    }\n</style>\n<table border=\"1\" class=\"dataframe\">\n  <thead>\n    <tr style=\"text-align: right;\">\n      <th></th>\n      <th>Population</th>\n      <th>Area (sq. mi.)</th>\n      <th>GDP ($ per capita)</th>\n    </tr>\n  </thead>\n  <tbody>\n    <tr>\n      <th>count</th>\n      <td>2.270000e+02</td>\n      <td>2.270000e+02</td>\n      <td>226.000000</td>\n    </tr>\n    <tr>\n      <th>mean</th>\n      <td>2.874028e+07</td>\n      <td>5.982270e+05</td>\n      <td>9689.823009</td>\n    </tr>\n    <tr>\n      <th>std</th>\n      <td>1.178913e+08</td>\n      <td>1.790282e+06</td>\n      <td>10049.138513</td>\n    </tr>\n    <tr>\n      <th>min</th>\n      <td>7.026000e+03</td>\n      <td>2.000000e+00</td>\n      <td>500.000000</td>\n    </tr>\n    <tr>\n      <th>25%</th>\n      <td>4.376240e+05</td>\n      <td>4.647500e+03</td>\n      <td>1900.000000</td>\n    </tr>\n    <tr>\n      <th>50%</th>\n      <td>4.786994e+06</td>\n      <td>8.660000e+04</td>\n      <td>5550.000000</td>\n    </tr>\n    <tr>\n      <th>75%</th>\n      <td>1.749777e+07</td>\n      <td>4.418110e+05</td>\n      <td>15700.000000</td>\n    </tr>\n    <tr>\n      <th>max</th>\n      <td>1.313974e+09</td>\n      <td>1.707520e+07</td>\n      <td>55100.000000</td>\n    </tr>\n  </tbody>\n</table>\n</div>"
          },
          "metadata": {}
        }
      ],
      "execution_count": 30
    },
    {
      "cell_type": "code",
      "source": "df['Pop. Density (per sq. mi.)'].value_counts()",
      "metadata": {
        "trusted": true
      },
      "outputs": [
        {
          "execution_count": 31,
          "output_type": "execute_result",
          "data": {
            "text/plain": "Pop. Density (per sq. mi.)\n66,6     2\n77,4     2\n69,8     2\n97,7     2\n372,5    2\n        ..\n254,4    1\n316,1    1\n112,9    1\n838,6    1\n31,3     1\nName: count, Length: 219, dtype: int64"
          },
          "metadata": {}
        }
      ],
      "execution_count": 31
    },
    {
      "cell_type": "code",
      "source": "df['Coastline (coast/area ratio)'].value_counts()    \n    \n    \n    \n    ",
      "metadata": {
        "trusted": true
      },
      "outputs": [
        {
          "execution_count": 32,
          "output_type": "execute_result",
          "data": {
            "text/plain": "Coastline (coast/area ratio)\n0,00     44\n0,13      4\n0,09      4\n0,10      3\n0,37      3\n         ..\n79,84     1\n8,39      1\n1,84      1\n1,06      1\n0,36      1\nName: count, Length: 151, dtype: int64"
          },
          "metadata": {}
        }
      ],
      "execution_count": 32
    },
    {
      "cell_type": "code",
      "source": "\ndef pop_cleaning(value):\n    result = value.replace(',', '.')\n    return float(result)\n\ndf['Pop. Density (per sq. mi.)'] = df['Pop. Density (per sq. mi.)'].apply(pop_cleaning)\n",
      "metadata": {
        "trusted": true
      },
      "outputs": [],
      "execution_count": 33
    },
    {
      "cell_type": "code",
      "source": "df.info()",
      "metadata": {
        "trusted": true
      },
      "outputs": [
        {
          "name": "stdout",
          "text": "<class 'pandas.core.frame.DataFrame'>\nRangeIndex: 227 entries, 0 to 226\nData columns (total 20 columns):\n #   Column                              Non-Null Count  Dtype  \n---  ------                              --------------  -----  \n 0   Country                             227 non-null    object \n 1   Region                              227 non-null    object \n 2   Population                          227 non-null    int64  \n 3   Area (sq. mi.)                      227 non-null    int64  \n 4   Pop. Density (per sq. mi.)          227 non-null    float64\n 5   Coastline (coast/area ratio)        227 non-null    object \n 6   Net migration                       224 non-null    object \n 7   Infant mortality (per 1000 births)  224 non-null    object \n 8   GDP ($ per capita)                  226 non-null    float64\n 9   Literacy (%)                        209 non-null    object \n 10  Phones (per 1000)                   223 non-null    object \n 11  Arable (%)                          225 non-null    object \n 12  Crops (%)                           225 non-null    object \n 13  Other (%)                           225 non-null    object \n 14  Climate                             205 non-null    object \n 15  Birthrate                           224 non-null    object \n 16  Deathrate                           223 non-null    object \n 17  Agriculture                         212 non-null    object \n 18  Industry                            211 non-null    object \n 19  Service                             212 non-null    object \ndtypes: float64(2), int64(2), object(16)\nmemory usage: 21.4+ KB\n",
          "output_type": "stream"
        }
      ],
      "execution_count": 34
    },
    {
      "cell_type": "code",
      "source": "\ndef coast_cleaning(value):\n    result = value.replace(',', '.')\n    return float(result)\n\ndf['Coastline (coast/area ratio)'] = df['Coastline (coast/area ratio)'].apply(coast_cleaning)\n",
      "metadata": {
        "trusted": true
      },
      "outputs": [],
      "execution_count": 35
    },
    {
      "cell_type": "code",
      "source": "df.info()",
      "metadata": {
        "trusted": true
      },
      "outputs": [
        {
          "name": "stdout",
          "text": "<class 'pandas.core.frame.DataFrame'>\nRangeIndex: 227 entries, 0 to 226\nData columns (total 20 columns):\n #   Column                              Non-Null Count  Dtype  \n---  ------                              --------------  -----  \n 0   Country                             227 non-null    object \n 1   Region                              227 non-null    object \n 2   Population                          227 non-null    int64  \n 3   Area (sq. mi.)                      227 non-null    int64  \n 4   Pop. Density (per sq. mi.)          227 non-null    float64\n 5   Coastline (coast/area ratio)        227 non-null    float64\n 6   Net migration                       224 non-null    object \n 7   Infant mortality (per 1000 births)  224 non-null    object \n 8   GDP ($ per capita)                  226 non-null    float64\n 9   Literacy (%)                        209 non-null    object \n 10  Phones (per 1000)                   223 non-null    object \n 11  Arable (%)                          225 non-null    object \n 12  Crops (%)                           225 non-null    object \n 13  Other (%)                           225 non-null    object \n 14  Climate                             205 non-null    object \n 15  Birthrate                           224 non-null    object \n 16  Deathrate                           223 non-null    object \n 17  Agriculture                         212 non-null    object \n 18  Industry                            211 non-null    object \n 19  Service                             212 non-null    object \ndtypes: float64(3), int64(2), object(15)\nmemory usage: 22.2+ KB\n",
          "output_type": "stream"
        }
      ],
      "execution_count": 36
    },
    {
      "cell_type": "code",
      "source": "df['Net migration'].value_counts()    \n\n",
      "metadata": {
        "trusted": true
      },
      "outputs": [
        {
          "execution_count": 37,
          "output_type": "execute_result",
          "data": {
            "text/plain": "Net migration\n0        62\n4,05      2\n-0,39     2\n2,07      2\n-0,07     2\n         ..\n2,18      1\n-0,64     1\n2,35      1\n-8,37     1\n2,98      1\nName: count, Length: 157, dtype: int64"
          },
          "metadata": {}
        }
      ],
      "execution_count": 37
    },
    {
      "cell_type": "code",
      "source": "\ndef net_cleaning(value):\n    result = str(value)\n    result = result.replace(',', '.')\n    return float(result)\n\ndf['Net migration'] = df['Net migration'].apply(net_cleaning)",
      "metadata": {
        "trusted": true
      },
      "outputs": [],
      "execution_count": 38
    },
    {
      "cell_type": "code",
      "source": "df.info()",
      "metadata": {
        "trusted": true
      },
      "outputs": [
        {
          "name": "stdout",
          "text": "<class 'pandas.core.frame.DataFrame'>\nRangeIndex: 227 entries, 0 to 226\nData columns (total 20 columns):\n #   Column                              Non-Null Count  Dtype  \n---  ------                              --------------  -----  \n 0   Country                             227 non-null    object \n 1   Region                              227 non-null    object \n 2   Population                          227 non-null    int64  \n 3   Area (sq. mi.)                      227 non-null    int64  \n 4   Pop. Density (per sq. mi.)          227 non-null    float64\n 5   Coastline (coast/area ratio)        227 non-null    float64\n 6   Net migration                       224 non-null    float64\n 7   Infant mortality (per 1000 births)  224 non-null    object \n 8   GDP ($ per capita)                  226 non-null    float64\n 9   Literacy (%)                        209 non-null    object \n 10  Phones (per 1000)                   223 non-null    object \n 11  Arable (%)                          225 non-null    object \n 12  Crops (%)                           225 non-null    object \n 13  Other (%)                           225 non-null    object \n 14  Climate                             205 non-null    object \n 15  Birthrate                           224 non-null    object \n 16  Deathrate                           223 non-null    object \n 17  Agriculture                         212 non-null    object \n 18  Industry                            211 non-null    object \n 19  Service                             212 non-null    object \ndtypes: float64(4), int64(2), object(14)\nmemory usage: 23.1+ KB\n",
          "output_type": "stream"
        }
      ],
      "execution_count": 39
    },
    {
      "cell_type": "code",
      "source": "avr_net = df['Net migration'].mean()",
      "metadata": {
        "trusted": true
      },
      "outputs": [],
      "execution_count": 40
    },
    {
      "cell_type": "code",
      "source": "df['Net migration'] = df['Net migration'].fillna(avr_net)",
      "metadata": {
        "trusted": true
      },
      "outputs": [],
      "execution_count": 41
    },
    {
      "cell_type": "code",
      "source": "df.info()",
      "metadata": {
        "trusted": true
      },
      "outputs": [
        {
          "name": "stdout",
          "text": "<class 'pandas.core.frame.DataFrame'>\nRangeIndex: 227 entries, 0 to 226\nData columns (total 20 columns):\n #   Column                              Non-Null Count  Dtype  \n---  ------                              --------------  -----  \n 0   Country                             227 non-null    object \n 1   Region                              227 non-null    object \n 2   Population                          227 non-null    int64  \n 3   Area (sq. mi.)                      227 non-null    int64  \n 4   Pop. Density (per sq. mi.)          227 non-null    float64\n 5   Coastline (coast/area ratio)        227 non-null    float64\n 6   Net migration                       227 non-null    float64\n 7   Infant mortality (per 1000 births)  224 non-null    object \n 8   GDP ($ per capita)                  226 non-null    float64\n 9   Literacy (%)                        209 non-null    object \n 10  Phones (per 1000)                   223 non-null    object \n 11  Arable (%)                          225 non-null    object \n 12  Crops (%)                           225 non-null    object \n 13  Other (%)                           225 non-null    object \n 14  Climate                             205 non-null    object \n 15  Birthrate                           224 non-null    object \n 16  Deathrate                           223 non-null    object \n 17  Agriculture                         212 non-null    object \n 18  Industry                            211 non-null    object \n 19  Service                             212 non-null    object \ndtypes: float64(4), int64(2), object(14)\nmemory usage: 23.1+ KB\n",
          "output_type": "stream"
        }
      ],
      "execution_count": 42
    },
    {
      "cell_type": "code",
      "source": "df['Infant mortality (per 1000 births)'].value_counts()    \n",
      "metadata": {
        "trusted": true
      },
      "outputs": [
        {
          "execution_count": 43,
          "output_type": "execute_result",
          "data": {
            "text/plain": "Infant mortality (per 1000 births)\n9,95      3\n4,39      2\n12,62     2\n163,07    1\n19,51     1\n         ..\n5,53      1\n15,82     1\n14,62     1\n8,6       1\n67,69     1\nName: count, Length: 220, dtype: int64"
          },
          "metadata": {}
        }
      ],
      "execution_count": 43
    },
    {
      "cell_type": "code",
      "source": "\ndef infant_cleaning(value):\n    result = str(value)\n\n    result = result.replace(',', '.')\n    return float(result)\n\ndf['Infant mortality (per 1000 births)'] = df['Infant mortality (per 1000 births)'].apply(infant_cleaning)",
      "metadata": {
        "trusted": true
      },
      "outputs": [],
      "execution_count": 44
    },
    {
      "cell_type": "code",
      "source": "df.info()",
      "metadata": {
        "trusted": true
      },
      "outputs": [
        {
          "name": "stdout",
          "text": "<class 'pandas.core.frame.DataFrame'>\nRangeIndex: 227 entries, 0 to 226\nData columns (total 20 columns):\n #   Column                              Non-Null Count  Dtype  \n---  ------                              --------------  -----  \n 0   Country                             227 non-null    object \n 1   Region                              227 non-null    object \n 2   Population                          227 non-null    int64  \n 3   Area (sq. mi.)                      227 non-null    int64  \n 4   Pop. Density (per sq. mi.)          227 non-null    float64\n 5   Coastline (coast/area ratio)        227 non-null    float64\n 6   Net migration                       227 non-null    float64\n 7   Infant mortality (per 1000 births)  224 non-null    float64\n 8   GDP ($ per capita)                  226 non-null    float64\n 9   Literacy (%)                        209 non-null    object \n 10  Phones (per 1000)                   223 non-null    object \n 11  Arable (%)                          225 non-null    object \n 12  Crops (%)                           225 non-null    object \n 13  Other (%)                           225 non-null    object \n 14  Climate                             205 non-null    object \n 15  Birthrate                           224 non-null    object \n 16  Deathrate                           223 non-null    object \n 17  Agriculture                         212 non-null    object \n 18  Industry                            211 non-null    object \n 19  Service                             212 non-null    object \ndtypes: float64(5), int64(2), object(13)\nmemory usage: 24.0+ KB\n",
          "output_type": "stream"
        }
      ],
      "execution_count": 45
    },
    {
      "cell_type": "code",
      "source": "avr_infant = df['Infant mortality (per 1000 births)'].mean()",
      "metadata": {
        "trusted": true
      },
      "outputs": [],
      "execution_count": 46
    },
    {
      "cell_type": "code",
      "source": "df['Infant mortality (per 1000 births)'] = df['Infant mortality (per 1000 births)'].fillna(avr_net)",
      "metadata": {
        "trusted": true
      },
      "outputs": [],
      "execution_count": 47
    },
    {
      "cell_type": "code",
      "source": "df.info()",
      "metadata": {
        "trusted": true
      },
      "outputs": [
        {
          "name": "stdout",
          "text": "<class 'pandas.core.frame.DataFrame'>\nRangeIndex: 227 entries, 0 to 226\nData columns (total 20 columns):\n #   Column                              Non-Null Count  Dtype  \n---  ------                              --------------  -----  \n 0   Country                             227 non-null    object \n 1   Region                              227 non-null    object \n 2   Population                          227 non-null    int64  \n 3   Area (sq. mi.)                      227 non-null    int64  \n 4   Pop. Density (per sq. mi.)          227 non-null    float64\n 5   Coastline (coast/area ratio)        227 non-null    float64\n 6   Net migration                       227 non-null    float64\n 7   Infant mortality (per 1000 births)  227 non-null    float64\n 8   GDP ($ per capita)                  226 non-null    float64\n 9   Literacy (%)                        209 non-null    object \n 10  Phones (per 1000)                   223 non-null    object \n 11  Arable (%)                          225 non-null    object \n 12  Crops (%)                           225 non-null    object \n 13  Other (%)                           225 non-null    object \n 14  Climate                             205 non-null    object \n 15  Birthrate                           224 non-null    object \n 16  Deathrate                           223 non-null    object \n 17  Agriculture                         212 non-null    object \n 18  Industry                            211 non-null    object \n 19  Service                             212 non-null    object \ndtypes: float64(5), int64(2), object(13)\nmemory usage: 24.0+ KB\n",
          "output_type": "stream"
        }
      ],
      "execution_count": 48
    },
    {
      "cell_type": "code",
      "source": "\navr_gdp = df['GDP ($ per capita)'].mean()",
      "metadata": {
        "trusted": true
      },
      "outputs": [],
      "execution_count": 49
    },
    {
      "cell_type": "code",
      "source": "df['GDP ($ per capita)'] = df['GDP ($ per capita)'].fillna(avr_net)",
      "metadata": {
        "trusted": true
      },
      "outputs": [],
      "execution_count": 50
    },
    {
      "cell_type": "code",
      "source": "df.info()",
      "metadata": {
        "trusted": true
      },
      "outputs": [
        {
          "name": "stdout",
          "text": "<class 'pandas.core.frame.DataFrame'>\nRangeIndex: 227 entries, 0 to 226\nData columns (total 20 columns):\n #   Column                              Non-Null Count  Dtype  \n---  ------                              --------------  -----  \n 0   Country                             227 non-null    object \n 1   Region                              227 non-null    object \n 2   Population                          227 non-null    int64  \n 3   Area (sq. mi.)                      227 non-null    int64  \n 4   Pop. Density (per sq. mi.)          227 non-null    float64\n 5   Coastline (coast/area ratio)        227 non-null    float64\n 6   Net migration                       227 non-null    float64\n 7   Infant mortality (per 1000 births)  227 non-null    float64\n 8   GDP ($ per capita)                  227 non-null    float64\n 9   Literacy (%)                        209 non-null    object \n 10  Phones (per 1000)                   223 non-null    object \n 11  Arable (%)                          225 non-null    object \n 12  Crops (%)                           225 non-null    object \n 13  Other (%)                           225 non-null    object \n 14  Climate                             205 non-null    object \n 15  Birthrate                           224 non-null    object \n 16  Deathrate                           223 non-null    object \n 17  Agriculture                         212 non-null    object \n 18  Industry                            211 non-null    object \n 19  Service                             212 non-null    object \ndtypes: float64(5), int64(2), object(13)\nmemory usage: 24.0+ KB\n",
          "output_type": "stream"
        }
      ],
      "execution_count": 51
    },
    {
      "cell_type": "code",
      "source": "df['Literacy (%)'].value_counts()    \n",
      "metadata": {
        "trusted": true
      },
      "outputs": [
        {
          "execution_count": 52,
          "output_type": "execute_result",
          "data": {
            "text/plain": "Literacy (%)\n99,0     13\n97,0     11\n98,0     10\n100,0     7\n98,6      4\n         ..\n83,0      1\n42,7      1\n85,7      1\n80,2      1\n90,7      1\nName: count, Length: 140, dtype: int64"
          },
          "metadata": {}
        }
      ],
      "execution_count": 52
    },
    {
      "cell_type": "code",
      "source": "\ndef literacy_cleaning(value):\n    result = str(value)\n    result = result.replace(',', '.')\n    return float(result)\n\ndf['Literacy (%)'] = df['Literacy (%)'].apply(literacy_cleaning)",
      "metadata": {
        "trusted": true
      },
      "outputs": [],
      "execution_count": 53
    },
    {
      "cell_type": "code",
      "source": "df.info()",
      "metadata": {
        "trusted": true
      },
      "outputs": [
        {
          "name": "stdout",
          "text": "<class 'pandas.core.frame.DataFrame'>\nRangeIndex: 227 entries, 0 to 226\nData columns (total 20 columns):\n #   Column                              Non-Null Count  Dtype  \n---  ------                              --------------  -----  \n 0   Country                             227 non-null    object \n 1   Region                              227 non-null    object \n 2   Population                          227 non-null    int64  \n 3   Area (sq. mi.)                      227 non-null    int64  \n 4   Pop. Density (per sq. mi.)          227 non-null    float64\n 5   Coastline (coast/area ratio)        227 non-null    float64\n 6   Net migration                       227 non-null    float64\n 7   Infant mortality (per 1000 births)  227 non-null    float64\n 8   GDP ($ per capita)                  227 non-null    float64\n 9   Literacy (%)                        209 non-null    float64\n 10  Phones (per 1000)                   223 non-null    object \n 11  Arable (%)                          225 non-null    object \n 12  Crops (%)                           225 non-null    object \n 13  Other (%)                           225 non-null    object \n 14  Climate                             205 non-null    object \n 15  Birthrate                           224 non-null    object \n 16  Deathrate                           223 non-null    object \n 17  Agriculture                         212 non-null    object \n 18  Industry                            211 non-null    object \n 19  Service                             212 non-null    object \ndtypes: float64(6), int64(2), object(12)\nmemory usage: 24.9+ KB\n",
          "output_type": "stream"
        }
      ],
      "execution_count": 54
    },
    {
      "cell_type": "code",
      "source": "\navr_net = df['Literacy (%)'].mean()",
      "metadata": {
        "trusted": true
      },
      "outputs": [],
      "execution_count": 55
    },
    {
      "cell_type": "code",
      "source": "df['Literacy (%)'] = df['Literacy (%)'].fillna(avr_net)",
      "metadata": {
        "trusted": true
      },
      "outputs": [],
      "execution_count": 56
    },
    {
      "cell_type": "code",
      "source": "df.info()",
      "metadata": {
        "trusted": true
      },
      "outputs": [
        {
          "name": "stdout",
          "text": "<class 'pandas.core.frame.DataFrame'>\nRangeIndex: 227 entries, 0 to 226\nData columns (total 20 columns):\n #   Column                              Non-Null Count  Dtype  \n---  ------                              --------------  -----  \n 0   Country                             227 non-null    object \n 1   Region                              227 non-null    object \n 2   Population                          227 non-null    int64  \n 3   Area (sq. mi.)                      227 non-null    int64  \n 4   Pop. Density (per sq. mi.)          227 non-null    float64\n 5   Coastline (coast/area ratio)        227 non-null    float64\n 6   Net migration                       227 non-null    float64\n 7   Infant mortality (per 1000 births)  227 non-null    float64\n 8   GDP ($ per capita)                  227 non-null    float64\n 9   Literacy (%)                        227 non-null    float64\n 10  Phones (per 1000)                   223 non-null    object \n 11  Arable (%)                          225 non-null    object \n 12  Crops (%)                           225 non-null    object \n 13  Other (%)                           225 non-null    object \n 14  Climate                             205 non-null    object \n 15  Birthrate                           224 non-null    object \n 16  Deathrate                           223 non-null    object \n 17  Agriculture                         212 non-null    object \n 18  Industry                            211 non-null    object \n 19  Service                             212 non-null    object \ndtypes: float64(6), int64(2), object(12)\nmemory usage: 24.9+ KB\n",
          "output_type": "stream"
        }
      ],
      "execution_count": 57
    },
    {
      "cell_type": "code",
      "source": "\ndef phone_cleaning(value):\n    result = str(value)\n    result = result.replace(',', '.')\n    return float(result) \n\ndf['Phones (per 1000)'] = df['Phones (per 1000)'].apply(phone_cleaning)",
      "metadata": {
        "trusted": true
      },
      "outputs": [],
      "execution_count": 58
    },
    {
      "cell_type": "code",
      "source": "df.info()",
      "metadata": {
        "trusted": true
      },
      "outputs": [
        {
          "name": "stdout",
          "text": "<class 'pandas.core.frame.DataFrame'>\nRangeIndex: 227 entries, 0 to 226\nData columns (total 20 columns):\n #   Column                              Non-Null Count  Dtype  \n---  ------                              --------------  -----  \n 0   Country                             227 non-null    object \n 1   Region                              227 non-null    object \n 2   Population                          227 non-null    int64  \n 3   Area (sq. mi.)                      227 non-null    int64  \n 4   Pop. Density (per sq. mi.)          227 non-null    float64\n 5   Coastline (coast/area ratio)        227 non-null    float64\n 6   Net migration                       227 non-null    float64\n 7   Infant mortality (per 1000 births)  227 non-null    float64\n 8   GDP ($ per capita)                  227 non-null    float64\n 9   Literacy (%)                        227 non-null    float64\n 10  Phones (per 1000)                   223 non-null    float64\n 11  Arable (%)                          225 non-null    object \n 12  Crops (%)                           225 non-null    object \n 13  Other (%)                           225 non-null    object \n 14  Climate                             205 non-null    object \n 15  Birthrate                           224 non-null    object \n 16  Deathrate                           223 non-null    object \n 17  Agriculture                         212 non-null    object \n 18  Industry                            211 non-null    object \n 19  Service                             212 non-null    object \ndtypes: float64(7), int64(2), object(11)\nmemory usage: 25.8+ KB\n",
          "output_type": "stream"
        }
      ],
      "execution_count": 59
    },
    {
      "cell_type": "code",
      "source": "avr_phone = df['Phones (per 1000)'].mean()",
      "metadata": {
        "trusted": true
      },
      "outputs": [],
      "execution_count": 60
    },
    {
      "cell_type": "code",
      "source": "df['Phones (per 1000)'] = df['Phones (per 1000)'].fillna(avr_phone)",
      "metadata": {
        "trusted": true
      },
      "outputs": [],
      "execution_count": 61
    },
    {
      "cell_type": "code",
      "source": "df.info()",
      "metadata": {
        "trusted": true
      },
      "outputs": [
        {
          "name": "stdout",
          "text": "<class 'pandas.core.frame.DataFrame'>\nRangeIndex: 227 entries, 0 to 226\nData columns (total 20 columns):\n #   Column                              Non-Null Count  Dtype  \n---  ------                              --------------  -----  \n 0   Country                             227 non-null    object \n 1   Region                              227 non-null    object \n 2   Population                          227 non-null    int64  \n 3   Area (sq. mi.)                      227 non-null    int64  \n 4   Pop. Density (per sq. mi.)          227 non-null    float64\n 5   Coastline (coast/area ratio)        227 non-null    float64\n 6   Net migration                       227 non-null    float64\n 7   Infant mortality (per 1000 births)  227 non-null    float64\n 8   GDP ($ per capita)                  227 non-null    float64\n 9   Literacy (%)                        227 non-null    float64\n 10  Phones (per 1000)                   227 non-null    float64\n 11  Arable (%)                          225 non-null    object \n 12  Crops (%)                           225 non-null    object \n 13  Other (%)                           225 non-null    object \n 14  Climate                             205 non-null    object \n 15  Birthrate                           224 non-null    object \n 16  Deathrate                           223 non-null    object \n 17  Agriculture                         212 non-null    object \n 18  Industry                            211 non-null    object \n 19  Service                             212 non-null    object \ndtypes: float64(7), int64(2), object(11)\nmemory usage: 25.8+ KB\n",
          "output_type": "stream"
        }
      ],
      "execution_count": 62
    },
    {
      "cell_type": "code",
      "source": "\ndef arable_cleaning(value):\n    result = str(value)\n    result = result.replace(',', '.')\n    result = float(result)\n    return result * 100 \n\ndf['Arable (%)'] = df['Arable (%)'].apply(arable_cleaning)",
      "metadata": {
        "trusted": true
      },
      "outputs": [],
      "execution_count": 63
    },
    {
      "cell_type": "code",
      "source": "df.info()",
      "metadata": {
        "trusted": true
      },
      "outputs": [
        {
          "name": "stdout",
          "text": "<class 'pandas.core.frame.DataFrame'>\nRangeIndex: 227 entries, 0 to 226\nData columns (total 20 columns):\n #   Column                              Non-Null Count  Dtype  \n---  ------                              --------------  -----  \n 0   Country                             227 non-null    object \n 1   Region                              227 non-null    object \n 2   Population                          227 non-null    int64  \n 3   Area (sq. mi.)                      227 non-null    int64  \n 4   Pop. Density (per sq. mi.)          227 non-null    float64\n 5   Coastline (coast/area ratio)        227 non-null    float64\n 6   Net migration                       227 non-null    float64\n 7   Infant mortality (per 1000 births)  227 non-null    float64\n 8   GDP ($ per capita)                  227 non-null    float64\n 9   Literacy (%)                        227 non-null    float64\n 10  Phones (per 1000)                   227 non-null    float64\n 11  Arable (%)                          225 non-null    float64\n 12  Crops (%)                           225 non-null    object \n 13  Other (%)                           225 non-null    object \n 14  Climate                             205 non-null    object \n 15  Birthrate                           224 non-null    object \n 16  Deathrate                           223 non-null    object \n 17  Agriculture                         212 non-null    object \n 18  Industry                            211 non-null    object \n 19  Service                             212 non-null    object \ndtypes: float64(8), int64(2), object(10)\nmemory usage: 26.7+ KB\n",
          "output_type": "stream"
        }
      ],
      "execution_count": 64
    },
    {
      "cell_type": "code",
      "source": "df.head()",
      "metadata": {
        "trusted": true
      },
      "outputs": [
        {
          "execution_count": 65,
          "output_type": "execute_result",
          "data": {
            "text/plain": "           Country                               Region  Population  \\\n0     Afghanistan         ASIA (EX. NEAR EAST)             31056997   \n1         Albania   EASTERN EUROPE                          3581655   \n2         Algeria   NORTHERN AFRICA                        32930091   \n3  American Samoa   OCEANIA                                   57794   \n4         Andorra   WESTERN EUROPE                            71201   \n\n   Area (sq. mi.)  Pop. Density (per sq. mi.)  Coastline (coast/area ratio)  \\\n0          647500                        48.0                          0.00   \n1           28748                       124.6                          1.26   \n2         2381740                        13.8                          0.04   \n3             199                       290.4                         58.29   \n4             468                       152.1                          0.00   \n\n   Net migration  Infant mortality (per 1000 births)  GDP ($ per capita)  \\\n0          23.06                              163.07               700.0   \n1          -4.93                               21.52              4500.0   \n2          -0.39                               31.00              6000.0   \n3         -20.71                                9.27              8000.0   \n4           6.60                                4.05             19000.0   \n\n   Literacy (%)  Phones (per 1000)  Arable (%) Crops (%) Other (%) Climate  \\\n0          36.0                3.2      1213.0      0,22     87,65       1   \n1          86.5               71.2      2109.0      4,42     74,49       3   \n2          70.0               78.1       322.0      0,25     96,53       1   \n3          97.0              259.5      1000.0        15        75       2   \n4         100.0              497.2       222.0         0     97,78       3   \n\n  Birthrate Deathrate Agriculture Industry Service  \n0      46,6     20,34        0,38     0,24    0,38  \n1     15,11      5,22       0,232    0,188   0,579  \n2     17,14      4,61       0,101      0,6   0,298  \n3     22,46      3,27         NaN      NaN     NaN  \n4      8,71      6,25         NaN      NaN     NaN  ",
            "text/html": "<div>\n<style scoped>\n    .dataframe tbody tr th:only-of-type {\n        vertical-align: middle;\n    }\n\n    .dataframe tbody tr th {\n        vertical-align: top;\n    }\n\n    .dataframe thead th {\n        text-align: right;\n    }\n</style>\n<table border=\"1\" class=\"dataframe\">\n  <thead>\n    <tr style=\"text-align: right;\">\n      <th></th>\n      <th>Country</th>\n      <th>Region</th>\n      <th>Population</th>\n      <th>Area (sq. mi.)</th>\n      <th>Pop. Density (per sq. mi.)</th>\n      <th>Coastline (coast/area ratio)</th>\n      <th>Net migration</th>\n      <th>Infant mortality (per 1000 births)</th>\n      <th>GDP ($ per capita)</th>\n      <th>Literacy (%)</th>\n      <th>Phones (per 1000)</th>\n      <th>Arable (%)</th>\n      <th>Crops (%)</th>\n      <th>Other (%)</th>\n      <th>Climate</th>\n      <th>Birthrate</th>\n      <th>Deathrate</th>\n      <th>Agriculture</th>\n      <th>Industry</th>\n      <th>Service</th>\n    </tr>\n  </thead>\n  <tbody>\n    <tr>\n      <th>0</th>\n      <td>Afghanistan</td>\n      <td>ASIA (EX. NEAR EAST)</td>\n      <td>31056997</td>\n      <td>647500</td>\n      <td>48.0</td>\n      <td>0.00</td>\n      <td>23.06</td>\n      <td>163.07</td>\n      <td>700.0</td>\n      <td>36.0</td>\n      <td>3.2</td>\n      <td>1213.0</td>\n      <td>0,22</td>\n      <td>87,65</td>\n      <td>1</td>\n      <td>46,6</td>\n      <td>20,34</td>\n      <td>0,38</td>\n      <td>0,24</td>\n      <td>0,38</td>\n    </tr>\n    <tr>\n      <th>1</th>\n      <td>Albania</td>\n      <td>EASTERN EUROPE</td>\n      <td>3581655</td>\n      <td>28748</td>\n      <td>124.6</td>\n      <td>1.26</td>\n      <td>-4.93</td>\n      <td>21.52</td>\n      <td>4500.0</td>\n      <td>86.5</td>\n      <td>71.2</td>\n      <td>2109.0</td>\n      <td>4,42</td>\n      <td>74,49</td>\n      <td>3</td>\n      <td>15,11</td>\n      <td>5,22</td>\n      <td>0,232</td>\n      <td>0,188</td>\n      <td>0,579</td>\n    </tr>\n    <tr>\n      <th>2</th>\n      <td>Algeria</td>\n      <td>NORTHERN AFRICA</td>\n      <td>32930091</td>\n      <td>2381740</td>\n      <td>13.8</td>\n      <td>0.04</td>\n      <td>-0.39</td>\n      <td>31.00</td>\n      <td>6000.0</td>\n      <td>70.0</td>\n      <td>78.1</td>\n      <td>322.0</td>\n      <td>0,25</td>\n      <td>96,53</td>\n      <td>1</td>\n      <td>17,14</td>\n      <td>4,61</td>\n      <td>0,101</td>\n      <td>0,6</td>\n      <td>0,298</td>\n    </tr>\n    <tr>\n      <th>3</th>\n      <td>American Samoa</td>\n      <td>OCEANIA</td>\n      <td>57794</td>\n      <td>199</td>\n      <td>290.4</td>\n      <td>58.29</td>\n      <td>-20.71</td>\n      <td>9.27</td>\n      <td>8000.0</td>\n      <td>97.0</td>\n      <td>259.5</td>\n      <td>1000.0</td>\n      <td>15</td>\n      <td>75</td>\n      <td>2</td>\n      <td>22,46</td>\n      <td>3,27</td>\n      <td>NaN</td>\n      <td>NaN</td>\n      <td>NaN</td>\n    </tr>\n    <tr>\n      <th>4</th>\n      <td>Andorra</td>\n      <td>WESTERN EUROPE</td>\n      <td>71201</td>\n      <td>468</td>\n      <td>152.1</td>\n      <td>0.00</td>\n      <td>6.60</td>\n      <td>4.05</td>\n      <td>19000.0</td>\n      <td>100.0</td>\n      <td>497.2</td>\n      <td>222.0</td>\n      <td>0</td>\n      <td>97,78</td>\n      <td>3</td>\n      <td>8,71</td>\n      <td>6,25</td>\n      <td>NaN</td>\n      <td>NaN</td>\n      <td>NaN</td>\n    </tr>\n  </tbody>\n</table>\n</div>"
          },
          "metadata": {}
        }
      ],
      "execution_count": 65
    },
    {
      "cell_type": "code",
      "source": "avr_ar = df['Arable (%)'].mean()",
      "metadata": {
        "trusted": true
      },
      "outputs": [],
      "execution_count": 66
    },
    {
      "cell_type": "code",
      "source": "df['Arable (%)'] = df['Arable (%)'].fillna(avr_ar)",
      "metadata": {
        "trusted": true
      },
      "outputs": [],
      "execution_count": 67
    },
    {
      "cell_type": "code",
      "source": "df.info()",
      "metadata": {
        "trusted": true
      },
      "outputs": [
        {
          "name": "stdout",
          "text": "<class 'pandas.core.frame.DataFrame'>\nRangeIndex: 227 entries, 0 to 226\nData columns (total 20 columns):\n #   Column                              Non-Null Count  Dtype  \n---  ------                              --------------  -----  \n 0   Country                             227 non-null    object \n 1   Region                              227 non-null    object \n 2   Population                          227 non-null    int64  \n 3   Area (sq. mi.)                      227 non-null    int64  \n 4   Pop. Density (per sq. mi.)          227 non-null    float64\n 5   Coastline (coast/area ratio)        227 non-null    float64\n 6   Net migration                       227 non-null    float64\n 7   Infant mortality (per 1000 births)  227 non-null    float64\n 8   GDP ($ per capita)                  227 non-null    float64\n 9   Literacy (%)                        227 non-null    float64\n 10  Phones (per 1000)                   227 non-null    float64\n 11  Arable (%)                          227 non-null    float64\n 12  Crops (%)                           225 non-null    object \n 13  Other (%)                           225 non-null    object \n 14  Climate                             205 non-null    object \n 15  Birthrate                           224 non-null    object \n 16  Deathrate                           223 non-null    object \n 17  Agriculture                         212 non-null    object \n 18  Industry                            211 non-null    object \n 19  Service                             212 non-null    object \ndtypes: float64(8), int64(2), object(10)\nmemory usage: 26.7+ KB\n",
          "output_type": "stream"
        }
      ],
      "execution_count": 68
    },
    {
      "cell_type": "code",
      "source": "\ndef crops_cleaning(value):\n    result = str(value)\n    result = result.replace(',', '.')\n    result = float(result)\n    return result * 100 \n\ndf['Crops (%)'] = df['Crops (%)'].apply(crops_cleaning)",
      "metadata": {
        "trusted": true
      },
      "outputs": [],
      "execution_count": 69
    },
    {
      "cell_type": "code",
      "source": "df.info()",
      "metadata": {
        "trusted": true
      },
      "outputs": [
        {
          "name": "stdout",
          "text": "<class 'pandas.core.frame.DataFrame'>\nRangeIndex: 227 entries, 0 to 226\nData columns (total 20 columns):\n #   Column                              Non-Null Count  Dtype  \n---  ------                              --------------  -----  \n 0   Country                             227 non-null    object \n 1   Region                              227 non-null    object \n 2   Population                          227 non-null    int64  \n 3   Area (sq. mi.)                      227 non-null    int64  \n 4   Pop. Density (per sq. mi.)          227 non-null    float64\n 5   Coastline (coast/area ratio)        227 non-null    float64\n 6   Net migration                       227 non-null    float64\n 7   Infant mortality (per 1000 births)  227 non-null    float64\n 8   GDP ($ per capita)                  227 non-null    float64\n 9   Literacy (%)                        227 non-null    float64\n 10  Phones (per 1000)                   227 non-null    float64\n 11  Arable (%)                          227 non-null    float64\n 12  Crops (%)                           225 non-null    float64\n 13  Other (%)                           225 non-null    object \n 14  Climate                             205 non-null    object \n 15  Birthrate                           224 non-null    object \n 16  Deathrate                           223 non-null    object \n 17  Agriculture                         212 non-null    object \n 18  Industry                            211 non-null    object \n 19  Service                             212 non-null    object \ndtypes: float64(9), int64(2), object(9)\nmemory usage: 27.6+ KB\n",
          "output_type": "stream"
        }
      ],
      "execution_count": 70
    },
    {
      "cell_type": "code",
      "source": "avr_cr = df['Crops (%)'].mean()",
      "metadata": {
        "trusted": true
      },
      "outputs": [],
      "execution_count": 71
    },
    {
      "cell_type": "code",
      "source": "df['Crops (%)'] = df['Crops (%)'].fillna(avr_cr)",
      "metadata": {
        "trusted": true
      },
      "outputs": [],
      "execution_count": 72
    },
    {
      "cell_type": "code",
      "source": "df.info()",
      "metadata": {
        "trusted": true
      },
      "outputs": [
        {
          "name": "stdout",
          "text": "<class 'pandas.core.frame.DataFrame'>\nRangeIndex: 227 entries, 0 to 226\nData columns (total 20 columns):\n #   Column                              Non-Null Count  Dtype  \n---  ------                              --------------  -----  \n 0   Country                             227 non-null    object \n 1   Region                              227 non-null    object \n 2   Population                          227 non-null    int64  \n 3   Area (sq. mi.)                      227 non-null    int64  \n 4   Pop. Density (per sq. mi.)          227 non-null    float64\n 5   Coastline (coast/area ratio)        227 non-null    float64\n 6   Net migration                       227 non-null    float64\n 7   Infant mortality (per 1000 births)  227 non-null    float64\n 8   GDP ($ per capita)                  227 non-null    float64\n 9   Literacy (%)                        227 non-null    float64\n 10  Phones (per 1000)                   227 non-null    float64\n 11  Arable (%)                          227 non-null    float64\n 12  Crops (%)                           227 non-null    float64\n 13  Other (%)                           225 non-null    object \n 14  Climate                             205 non-null    object \n 15  Birthrate                           224 non-null    object \n 16  Deathrate                           223 non-null    object \n 17  Agriculture                         212 non-null    object \n 18  Industry                            211 non-null    object \n 19  Service                             212 non-null    object \ndtypes: float64(9), int64(2), object(9)\nmemory usage: 27.6+ KB\n",
          "output_type": "stream"
        }
      ],
      "execution_count": 73
    },
    {
      "cell_type": "code",
      "source": "\ndef other_cleaning(value):\n    result = str(value)\n    result = result.replace(',', '.')\n    result = float(result)\n    return result * 100 \n\ndf['Other (%)'] = df['Other (%)'].apply(other_cleaning)",
      "metadata": {
        "trusted": true
      },
      "outputs": [],
      "execution_count": 74
    },
    {
      "cell_type": "code",
      "source": "df.info()",
      "metadata": {
        "trusted": true
      },
      "outputs": [
        {
          "name": "stdout",
          "text": "<class 'pandas.core.frame.DataFrame'>\nRangeIndex: 227 entries, 0 to 226\nData columns (total 20 columns):\n #   Column                              Non-Null Count  Dtype  \n---  ------                              --------------  -----  \n 0   Country                             227 non-null    object \n 1   Region                              227 non-null    object \n 2   Population                          227 non-null    int64  \n 3   Area (sq. mi.)                      227 non-null    int64  \n 4   Pop. Density (per sq. mi.)          227 non-null    float64\n 5   Coastline (coast/area ratio)        227 non-null    float64\n 6   Net migration                       227 non-null    float64\n 7   Infant mortality (per 1000 births)  227 non-null    float64\n 8   GDP ($ per capita)                  227 non-null    float64\n 9   Literacy (%)                        227 non-null    float64\n 10  Phones (per 1000)                   227 non-null    float64\n 11  Arable (%)                          227 non-null    float64\n 12  Crops (%)                           227 non-null    float64\n 13  Other (%)                           225 non-null    float64\n 14  Climate                             205 non-null    object \n 15  Birthrate                           224 non-null    object \n 16  Deathrate                           223 non-null    object \n 17  Agriculture                         212 non-null    object \n 18  Industry                            211 non-null    object \n 19  Service                             212 non-null    object \ndtypes: float64(10), int64(2), object(8)\nmemory usage: 28.4+ KB\n",
          "output_type": "stream"
        }
      ],
      "execution_count": 75
    },
    {
      "cell_type": "code",
      "source": "avr_ot = df['Other (%)'].mean()",
      "metadata": {
        "trusted": true
      },
      "outputs": [],
      "execution_count": 76
    },
    {
      "cell_type": "code",
      "source": "df['Other (%)'] = df['Other (%)'].fillna(avr_ot)",
      "metadata": {
        "trusted": true
      },
      "outputs": [],
      "execution_count": 77
    },
    {
      "cell_type": "code",
      "source": "df.info()",
      "metadata": {
        "trusted": true
      },
      "outputs": [
        {
          "name": "stdout",
          "text": "<class 'pandas.core.frame.DataFrame'>\nRangeIndex: 227 entries, 0 to 226\nData columns (total 20 columns):\n #   Column                              Non-Null Count  Dtype  \n---  ------                              --------------  -----  \n 0   Country                             227 non-null    object \n 1   Region                              227 non-null    object \n 2   Population                          227 non-null    int64  \n 3   Area (sq. mi.)                      227 non-null    int64  \n 4   Pop. Density (per sq. mi.)          227 non-null    float64\n 5   Coastline (coast/area ratio)        227 non-null    float64\n 6   Net migration                       227 non-null    float64\n 7   Infant mortality (per 1000 births)  227 non-null    float64\n 8   GDP ($ per capita)                  227 non-null    float64\n 9   Literacy (%)                        227 non-null    float64\n 10  Phones (per 1000)                   227 non-null    float64\n 11  Arable (%)                          227 non-null    float64\n 12  Crops (%)                           227 non-null    float64\n 13  Other (%)                           227 non-null    float64\n 14  Climate                             205 non-null    object \n 15  Birthrate                           224 non-null    object \n 16  Deathrate                           223 non-null    object \n 17  Agriculture                         212 non-null    object \n 18  Industry                            211 non-null    object \n 19  Service                             212 non-null    object \ndtypes: float64(10), int64(2), object(8)\nmemory usage: 28.4+ KB\n",
          "output_type": "stream"
        }
      ],
      "execution_count": 78
    },
    {
      "cell_type": "code",
      "source": "\ndef climate_cleaning(value):\n    result = str(value)\n    result = result.replace(',', '.')\n    return float(result) \n\ndf['Climate'] = df['Climate'].apply(climate_cleaning)",
      "metadata": {
        "trusted": true
      },
      "outputs": [],
      "execution_count": 79
    },
    {
      "cell_type": "code",
      "source": "df.info()",
      "metadata": {
        "trusted": true
      },
      "outputs": [
        {
          "name": "stdout",
          "text": "<class 'pandas.core.frame.DataFrame'>\nRangeIndex: 227 entries, 0 to 226\nData columns (total 20 columns):\n #   Column                              Non-Null Count  Dtype  \n---  ------                              --------------  -----  \n 0   Country                             227 non-null    object \n 1   Region                              227 non-null    object \n 2   Population                          227 non-null    int64  \n 3   Area (sq. mi.)                      227 non-null    int64  \n 4   Pop. Density (per sq. mi.)          227 non-null    float64\n 5   Coastline (coast/area ratio)        227 non-null    float64\n 6   Net migration                       227 non-null    float64\n 7   Infant mortality (per 1000 births)  227 non-null    float64\n 8   GDP ($ per capita)                  227 non-null    float64\n 9   Literacy (%)                        227 non-null    float64\n 10  Phones (per 1000)                   227 non-null    float64\n 11  Arable (%)                          227 non-null    float64\n 12  Crops (%)                           227 non-null    float64\n 13  Other (%)                           227 non-null    float64\n 14  Climate                             205 non-null    float64\n 15  Birthrate                           224 non-null    object \n 16  Deathrate                           223 non-null    object \n 17  Agriculture                         212 non-null    object \n 18  Industry                            211 non-null    object \n 19  Service                             212 non-null    object \ndtypes: float64(11), int64(2), object(7)\nmemory usage: 29.3+ KB\n",
          "output_type": "stream"
        }
      ],
      "execution_count": 80
    },
    {
      "cell_type": "code",
      "source": "avr_c = df['Climate'].mean()",
      "metadata": {
        "trusted": true
      },
      "outputs": [],
      "execution_count": 81
    },
    {
      "cell_type": "code",
      "source": "df['Climate'] = df['Climate'].fillna(avr_c)",
      "metadata": {
        "trusted": true
      },
      "outputs": [],
      "execution_count": 82
    },
    {
      "cell_type": "code",
      "source": "df.info()",
      "metadata": {
        "trusted": true
      },
      "outputs": [
        {
          "name": "stdout",
          "text": "<class 'pandas.core.frame.DataFrame'>\nRangeIndex: 227 entries, 0 to 226\nData columns (total 20 columns):\n #   Column                              Non-Null Count  Dtype  \n---  ------                              --------------  -----  \n 0   Country                             227 non-null    object \n 1   Region                              227 non-null    object \n 2   Population                          227 non-null    int64  \n 3   Area (sq. mi.)                      227 non-null    int64  \n 4   Pop. Density (per sq. mi.)          227 non-null    float64\n 5   Coastline (coast/area ratio)        227 non-null    float64\n 6   Net migration                       227 non-null    float64\n 7   Infant mortality (per 1000 births)  227 non-null    float64\n 8   GDP ($ per capita)                  227 non-null    float64\n 9   Literacy (%)                        227 non-null    float64\n 10  Phones (per 1000)                   227 non-null    float64\n 11  Arable (%)                          227 non-null    float64\n 12  Crops (%)                           227 non-null    float64\n 13  Other (%)                           227 non-null    float64\n 14  Climate                             227 non-null    float64\n 15  Birthrate                           224 non-null    object \n 16  Deathrate                           223 non-null    object \n 17  Agriculture                         212 non-null    object \n 18  Industry                            211 non-null    object \n 19  Service                             212 non-null    object \ndtypes: float64(11), int64(2), object(7)\nmemory usage: 29.3+ KB\n",
          "output_type": "stream"
        }
      ],
      "execution_count": 83
    },
    {
      "cell_type": "code",
      "source": "\ndef birthrate_cleaning(value):\n    result = str(value)\n    result = result.replace(',', '.')\n    return float(result) \n\ndf['Birthrate'] = df['Birthrate'].apply(birthrate_cleaning)",
      "metadata": {
        "trusted": true
      },
      "outputs": [],
      "execution_count": 84
    },
    {
      "cell_type": "code",
      "source": "df.info()",
      "metadata": {
        "trusted": true
      },
      "outputs": [
        {
          "name": "stdout",
          "text": "<class 'pandas.core.frame.DataFrame'>\nRangeIndex: 227 entries, 0 to 226\nData columns (total 20 columns):\n #   Column                              Non-Null Count  Dtype  \n---  ------                              --------------  -----  \n 0   Country                             227 non-null    object \n 1   Region                              227 non-null    object \n 2   Population                          227 non-null    int64  \n 3   Area (sq. mi.)                      227 non-null    int64  \n 4   Pop. Density (per sq. mi.)          227 non-null    float64\n 5   Coastline (coast/area ratio)        227 non-null    float64\n 6   Net migration                       227 non-null    float64\n 7   Infant mortality (per 1000 births)  227 non-null    float64\n 8   GDP ($ per capita)                  227 non-null    float64\n 9   Literacy (%)                        227 non-null    float64\n 10  Phones (per 1000)                   227 non-null    float64\n 11  Arable (%)                          227 non-null    float64\n 12  Crops (%)                           227 non-null    float64\n 13  Other (%)                           227 non-null    float64\n 14  Climate                             227 non-null    float64\n 15  Birthrate                           224 non-null    float64\n 16  Deathrate                           223 non-null    object \n 17  Agriculture                         212 non-null    object \n 18  Industry                            211 non-null    object \n 19  Service                             212 non-null    object \ndtypes: float64(12), int64(2), object(6)\nmemory usage: 30.2+ KB\n",
          "output_type": "stream"
        }
      ],
      "execution_count": 85
    },
    {
      "cell_type": "code",
      "source": "avr_c = df['Birthrate'].mean()",
      "metadata": {
        "trusted": true
      },
      "outputs": [],
      "execution_count": 86
    },
    {
      "cell_type": "code",
      "source": "df['Birthrate'] = df['Birthrate'].fillna(avr_c)",
      "metadata": {
        "trusted": true
      },
      "outputs": [],
      "execution_count": 87
    },
    {
      "cell_type": "code",
      "source": "df.info()",
      "metadata": {
        "trusted": true
      },
      "outputs": [
        {
          "name": "stdout",
          "text": "<class 'pandas.core.frame.DataFrame'>\nRangeIndex: 227 entries, 0 to 226\nData columns (total 20 columns):\n #   Column                              Non-Null Count  Dtype  \n---  ------                              --------------  -----  \n 0   Country                             227 non-null    object \n 1   Region                              227 non-null    object \n 2   Population                          227 non-null    int64  \n 3   Area (sq. mi.)                      227 non-null    int64  \n 4   Pop. Density (per sq. mi.)          227 non-null    float64\n 5   Coastline (coast/area ratio)        227 non-null    float64\n 6   Net migration                       227 non-null    float64\n 7   Infant mortality (per 1000 births)  227 non-null    float64\n 8   GDP ($ per capita)                  227 non-null    float64\n 9   Literacy (%)                        227 non-null    float64\n 10  Phones (per 1000)                   227 non-null    float64\n 11  Arable (%)                          227 non-null    float64\n 12  Crops (%)                           227 non-null    float64\n 13  Other (%)                           227 non-null    float64\n 14  Climate                             227 non-null    float64\n 15  Birthrate                           227 non-null    float64\n 16  Deathrate                           223 non-null    object \n 17  Agriculture                         212 non-null    object \n 18  Industry                            211 non-null    object \n 19  Service                             212 non-null    object \ndtypes: float64(12), int64(2), object(6)\nmemory usage: 30.2+ KB\n",
          "output_type": "stream"
        }
      ],
      "execution_count": 88
    },
    {
      "cell_type": "code",
      "source": "\ndef deathrate_cleaning(value):\n    result = str(value)\n    result = result.replace(',', '.')\n    return float(result) \n\ndf['Deathrate'] = df['Deathrate'].apply(deathrate_cleaning)",
      "metadata": {
        "trusted": true
      },
      "outputs": [],
      "execution_count": 89
    },
    {
      "cell_type": "code",
      "source": "df.info()",
      "metadata": {
        "trusted": true
      },
      "outputs": [
        {
          "name": "stdout",
          "text": "<class 'pandas.core.frame.DataFrame'>\nRangeIndex: 227 entries, 0 to 226\nData columns (total 20 columns):\n #   Column                              Non-Null Count  Dtype  \n---  ------                              --------------  -----  \n 0   Country                             227 non-null    object \n 1   Region                              227 non-null    object \n 2   Population                          227 non-null    int64  \n 3   Area (sq. mi.)                      227 non-null    int64  \n 4   Pop. Density (per sq. mi.)          227 non-null    float64\n 5   Coastline (coast/area ratio)        227 non-null    float64\n 6   Net migration                       227 non-null    float64\n 7   Infant mortality (per 1000 births)  227 non-null    float64\n 8   GDP ($ per capita)                  227 non-null    float64\n 9   Literacy (%)                        227 non-null    float64\n 10  Phones (per 1000)                   227 non-null    float64\n 11  Arable (%)                          227 non-null    float64\n 12  Crops (%)                           227 non-null    float64\n 13  Other (%)                           227 non-null    float64\n 14  Climate                             227 non-null    float64\n 15  Birthrate                           227 non-null    float64\n 16  Deathrate                           223 non-null    float64\n 17  Agriculture                         212 non-null    object \n 18  Industry                            211 non-null    object \n 19  Service                             212 non-null    object \ndtypes: float64(13), int64(2), object(5)\nmemory usage: 31.1+ KB\n",
          "output_type": "stream"
        }
      ],
      "execution_count": 90
    },
    {
      "cell_type": "code",
      "source": "avr_c = df['Deathrate'].mean()",
      "metadata": {
        "trusted": true
      },
      "outputs": [],
      "execution_count": 91
    },
    {
      "cell_type": "code",
      "source": "df['Deathrate'] = df['Deathrate'].fillna(avr_c)",
      "metadata": {
        "trusted": true
      },
      "outputs": [],
      "execution_count": 92
    },
    {
      "cell_type": "code",
      "source": "df.info()",
      "metadata": {
        "trusted": true
      },
      "outputs": [
        {
          "name": "stdout",
          "text": "<class 'pandas.core.frame.DataFrame'>\nRangeIndex: 227 entries, 0 to 226\nData columns (total 20 columns):\n #   Column                              Non-Null Count  Dtype  \n---  ------                              --------------  -----  \n 0   Country                             227 non-null    object \n 1   Region                              227 non-null    object \n 2   Population                          227 non-null    int64  \n 3   Area (sq. mi.)                      227 non-null    int64  \n 4   Pop. Density (per sq. mi.)          227 non-null    float64\n 5   Coastline (coast/area ratio)        227 non-null    float64\n 6   Net migration                       227 non-null    float64\n 7   Infant mortality (per 1000 births)  227 non-null    float64\n 8   GDP ($ per capita)                  227 non-null    float64\n 9   Literacy (%)                        227 non-null    float64\n 10  Phones (per 1000)                   227 non-null    float64\n 11  Arable (%)                          227 non-null    float64\n 12  Crops (%)                           227 non-null    float64\n 13  Other (%)                           227 non-null    float64\n 14  Climate                             227 non-null    float64\n 15  Birthrate                           227 non-null    float64\n 16  Deathrate                           227 non-null    float64\n 17  Agriculture                         212 non-null    object \n 18  Industry                            211 non-null    object \n 19  Service                             212 non-null    object \ndtypes: float64(13), int64(2), object(5)\nmemory usage: 31.1+ KB\n",
          "output_type": "stream"
        }
      ],
      "execution_count": 93
    },
    {
      "cell_type": "code",
      "source": "\ndef agriculture_cleaning(value):\n    result = str(value)\n    result = result.replace(',', '.')\n    return float(result) \n\ndf['Agriculture'] = df['Agriculture'].apply(agriculture_cleaning)",
      "metadata": {
        "trusted": true
      },
      "outputs": [],
      "execution_count": 94
    },
    {
      "cell_type": "code",
      "source": "df.info()",
      "metadata": {
        "trusted": true
      },
      "outputs": [
        {
          "name": "stdout",
          "text": "<class 'pandas.core.frame.DataFrame'>\nRangeIndex: 227 entries, 0 to 226\nData columns (total 20 columns):\n #   Column                              Non-Null Count  Dtype  \n---  ------                              --------------  -----  \n 0   Country                             227 non-null    object \n 1   Region                              227 non-null    object \n 2   Population                          227 non-null    int64  \n 3   Area (sq. mi.)                      227 non-null    int64  \n 4   Pop. Density (per sq. mi.)          227 non-null    float64\n 5   Coastline (coast/area ratio)        227 non-null    float64\n 6   Net migration                       227 non-null    float64\n 7   Infant mortality (per 1000 births)  227 non-null    float64\n 8   GDP ($ per capita)                  227 non-null    float64\n 9   Literacy (%)                        227 non-null    float64\n 10  Phones (per 1000)                   227 non-null    float64\n 11  Arable (%)                          227 non-null    float64\n 12  Crops (%)                           227 non-null    float64\n 13  Other (%)                           227 non-null    float64\n 14  Climate                             227 non-null    float64\n 15  Birthrate                           227 non-null    float64\n 16  Deathrate                           227 non-null    float64\n 17  Agriculture                         212 non-null    float64\n 18  Industry                            211 non-null    object \n 19  Service                             212 non-null    object \ndtypes: float64(14), int64(2), object(4)\nmemory usage: 32.0+ KB\n",
          "output_type": "stream"
        }
      ],
      "execution_count": 95
    },
    {
      "cell_type": "code",
      "source": "avr_c = df['Agriculture'].mean()",
      "metadata": {
        "trusted": true
      },
      "outputs": [],
      "execution_count": 96
    },
    {
      "cell_type": "code",
      "source": "df['Agriculture'] = df['Agriculture'].fillna(avr_c)",
      "metadata": {
        "trusted": true
      },
      "outputs": [],
      "execution_count": 97
    },
    {
      "cell_type": "code",
      "source": "df.info()",
      "metadata": {
        "trusted": true
      },
      "outputs": [
        {
          "name": "stdout",
          "text": "<class 'pandas.core.frame.DataFrame'>\nRangeIndex: 227 entries, 0 to 226\nData columns (total 20 columns):\n #   Column                              Non-Null Count  Dtype  \n---  ------                              --------------  -----  \n 0   Country                             227 non-null    object \n 1   Region                              227 non-null    object \n 2   Population                          227 non-null    int64  \n 3   Area (sq. mi.)                      227 non-null    int64  \n 4   Pop. Density (per sq. mi.)          227 non-null    float64\n 5   Coastline (coast/area ratio)        227 non-null    float64\n 6   Net migration                       227 non-null    float64\n 7   Infant mortality (per 1000 births)  227 non-null    float64\n 8   GDP ($ per capita)                  227 non-null    float64\n 9   Literacy (%)                        227 non-null    float64\n 10  Phones (per 1000)                   227 non-null    float64\n 11  Arable (%)                          227 non-null    float64\n 12  Crops (%)                           227 non-null    float64\n 13  Other (%)                           227 non-null    float64\n 14  Climate                             227 non-null    float64\n 15  Birthrate                           227 non-null    float64\n 16  Deathrate                           227 non-null    float64\n 17  Agriculture                         227 non-null    float64\n 18  Industry                            211 non-null    object \n 19  Service                             212 non-null    object \ndtypes: float64(14), int64(2), object(4)\nmemory usage: 32.0+ KB\n",
          "output_type": "stream"
        }
      ],
      "execution_count": 98
    },
    {
      "cell_type": "code",
      "source": "\ndef industry_cleaning(value):\n    result = str(value)\n    result = result.replace(',', '.')\n    return float(result) \n\ndf['Industry'] = df['Industry'].apply(industry_cleaning)",
      "metadata": {
        "trusted": true
      },
      "outputs": [],
      "execution_count": 99
    },
    {
      "cell_type": "code",
      "source": "df.info()",
      "metadata": {
        "trusted": true
      },
      "outputs": [
        {
          "name": "stdout",
          "text": "<class 'pandas.core.frame.DataFrame'>\nRangeIndex: 227 entries, 0 to 226\nData columns (total 20 columns):\n #   Column                              Non-Null Count  Dtype  \n---  ------                              --------------  -----  \n 0   Country                             227 non-null    object \n 1   Region                              227 non-null    object \n 2   Population                          227 non-null    int64  \n 3   Area (sq. mi.)                      227 non-null    int64  \n 4   Pop. Density (per sq. mi.)          227 non-null    float64\n 5   Coastline (coast/area ratio)        227 non-null    float64\n 6   Net migration                       227 non-null    float64\n 7   Infant mortality (per 1000 births)  227 non-null    float64\n 8   GDP ($ per capita)                  227 non-null    float64\n 9   Literacy (%)                        227 non-null    float64\n 10  Phones (per 1000)                   227 non-null    float64\n 11  Arable (%)                          227 non-null    float64\n 12  Crops (%)                           227 non-null    float64\n 13  Other (%)                           227 non-null    float64\n 14  Climate                             227 non-null    float64\n 15  Birthrate                           227 non-null    float64\n 16  Deathrate                           227 non-null    float64\n 17  Agriculture                         227 non-null    float64\n 18  Industry                            211 non-null    float64\n 19  Service                             212 non-null    object \ndtypes: float64(15), int64(2), object(3)\nmemory usage: 32.9+ KB\n",
          "output_type": "stream"
        }
      ],
      "execution_count": 100
    },
    {
      "cell_type": "code",
      "source": "avr_c = df['Industry'].mean()",
      "metadata": {
        "trusted": true
      },
      "outputs": [],
      "execution_count": 101
    },
    {
      "cell_type": "code",
      "source": "df['Industry'] = df['Industry'].fillna(avr_c)",
      "metadata": {
        "trusted": true
      },
      "outputs": [],
      "execution_count": 102
    },
    {
      "cell_type": "code",
      "source": "\ndef service_cleaning(value):\n    result = str(value)\n    result = result.replace(',', '.')\n    return float(result) \n\ndf['Service'] = df['Service'].apply(service_cleaning)",
      "metadata": {
        "trusted": true
      },
      "outputs": [],
      "execution_count": 103
    },
    {
      "cell_type": "code",
      "source": "df.info()",
      "metadata": {
        "trusted": true
      },
      "outputs": [
        {
          "name": "stdout",
          "text": "<class 'pandas.core.frame.DataFrame'>\nRangeIndex: 227 entries, 0 to 226\nData columns (total 20 columns):\n #   Column                              Non-Null Count  Dtype  \n---  ------                              --------------  -----  \n 0   Country                             227 non-null    object \n 1   Region                              227 non-null    object \n 2   Population                          227 non-null    int64  \n 3   Area (sq. mi.)                      227 non-null    int64  \n 4   Pop. Density (per sq. mi.)          227 non-null    float64\n 5   Coastline (coast/area ratio)        227 non-null    float64\n 6   Net migration                       227 non-null    float64\n 7   Infant mortality (per 1000 births)  227 non-null    float64\n 8   GDP ($ per capita)                  227 non-null    float64\n 9   Literacy (%)                        227 non-null    float64\n 10  Phones (per 1000)                   227 non-null    float64\n 11  Arable (%)                          227 non-null    float64\n 12  Crops (%)                           227 non-null    float64\n 13  Other (%)                           227 non-null    float64\n 14  Climate                             227 non-null    float64\n 15  Birthrate                           227 non-null    float64\n 16  Deathrate                           227 non-null    float64\n 17  Agriculture                         227 non-null    float64\n 18  Industry                            227 non-null    float64\n 19  Service                             212 non-null    float64\ndtypes: float64(16), int64(2), object(2)\nmemory usage: 33.8+ KB\n",
          "output_type": "stream"
        }
      ],
      "execution_count": 104
    },
    {
      "cell_type": "code",
      "source": "avr_c = df['Service'].mean()",
      "metadata": {
        "trusted": true
      },
      "outputs": [],
      "execution_count": 105
    },
    {
      "cell_type": "code",
      "source": "df['Service'] = df['Service'].fillna(avr_c)",
      "metadata": {
        "trusted": true
      },
      "outputs": [],
      "execution_count": 106
    },
    {
      "cell_type": "code",
      "source": "df.info()",
      "metadata": {
        "trusted": true
      },
      "outputs": [
        {
          "name": "stdout",
          "text": "<class 'pandas.core.frame.DataFrame'>\nRangeIndex: 227 entries, 0 to 226\nData columns (total 20 columns):\n #   Column                              Non-Null Count  Dtype  \n---  ------                              --------------  -----  \n 0   Country                             227 non-null    object \n 1   Region                              227 non-null    object \n 2   Population                          227 non-null    int64  \n 3   Area (sq. mi.)                      227 non-null    int64  \n 4   Pop. Density (per sq. mi.)          227 non-null    float64\n 5   Coastline (coast/area ratio)        227 non-null    float64\n 6   Net migration                       227 non-null    float64\n 7   Infant mortality (per 1000 births)  227 non-null    float64\n 8   GDP ($ per capita)                  227 non-null    float64\n 9   Literacy (%)                        227 non-null    float64\n 10  Phones (per 1000)                   227 non-null    float64\n 11  Arable (%)                          227 non-null    float64\n 12  Crops (%)                           227 non-null    float64\n 13  Other (%)                           227 non-null    float64\n 14  Climate                             227 non-null    float64\n 15  Birthrate                           227 non-null    float64\n 16  Deathrate                           227 non-null    float64\n 17  Agriculture                         227 non-null    float64\n 18  Industry                            227 non-null    float64\n 19  Service                             227 non-null    float64\ndtypes: float64(16), int64(2), object(2)\nmemory usage: 33.8+ KB\n",
          "output_type": "stream"
        }
      ],
      "execution_count": 107
    },
    {
      "cell_type": "code",
      "source": "df.to_csv('countries_half_cleaned.csv')",
      "metadata": {
        "trusted": true
      },
      "outputs": [],
      "execution_count": 186
    },
    {
      "cell_type": "code",
      "source": "#1\ncheckpoint = df['GDP ($ per capita)'].quantile(0.75)",
      "metadata": {
        "trusted": true
      },
      "outputs": [],
      "execution_count": 109
    },
    {
      "cell_type": "code",
      "source": "df_rich = df[df['GDP ($ per capita)'] >= checkpoint]\ndf_poor = df[df['GDP ($ per capita)'] < checkpoint]\n",
      "metadata": {
        "trusted": true
      },
      "outputs": [],
      "execution_count": 110
    },
    {
      "cell_type": "code",
      "source": "df['Area (sq. mi.)'].mean()",
      "metadata": {
        "trusted": true
      },
      "outputs": [
        {
          "execution_count": 120,
          "output_type": "execute_result",
          "data": {
            "text/plain": "598226.9559471365"
          },
          "metadata": {}
        }
      ],
      "execution_count": 120
    },
    {
      "cell_type": "code",
      "source": "df['Area (sq. mi.)'].mean()",
      "metadata": {
        "trusted": true
      },
      "outputs": [
        {
          "execution_count": 121,
          "output_type": "execute_result",
          "data": {
            "text/plain": "598226.9559471365"
          },
          "metadata": {}
        }
      ],
      "execution_count": 121
    },
    {
      "cell_type": "code",
      "source": "df_rich['Area (sq. mi.)'].mean()",
      "metadata": {
        "trusted": true
      },
      "outputs": [
        {
          "execution_count": 122,
          "output_type": "execute_result",
          "data": {
            "text/plain": "1147508.5789473683"
          },
          "metadata": {}
        }
      ],
      "execution_count": 122
    },
    {
      "cell_type": "code",
      "source": "df_poor['Area (sq. mi.)'].mean()",
      "metadata": {
        "trusted": true
      },
      "outputs": [
        {
          "execution_count": 123,
          "output_type": "execute_result",
          "data": {
            "text/plain": "414056.0588235294"
          },
          "metadata": {}
        }
      ],
      "execution_count": 123
    },
    {
      "cell_type": "code",
      "source": "#2\ncheckpoint = df['Industry'].quantile(0.75)\n",
      "metadata": {
        "trusted": true
      },
      "outputs": [],
      "execution_count": 124
    },
    {
      "cell_type": "code",
      "source": "df_rich = df[df['Industry'] >= checkpoint]\ndf_poor = df[df['Industry'] < checkpoint]\n",
      "metadata": {
        "trusted": true
      },
      "outputs": [],
      "execution_count": 125
    },
    {
      "cell_type": "code",
      "source": "df_rich['Industry'].mean()",
      "metadata": {
        "trusted": true
      },
      "outputs": [
        {
          "execution_count": 126,
          "output_type": "execute_result",
          "data": {
            "text/plain": "0.4571228070175439"
          },
          "metadata": {}
        }
      ],
      "execution_count": 126
    },
    {
      "cell_type": "code",
      "source": "df_poor['Industry'].mean()",
      "metadata": {
        "trusted": true
      },
      "outputs": [
        {
          "execution_count": 127,
          "output_type": "execute_result",
          "data": {
            "text/plain": "0.22423161416225257"
          },
          "metadata": {}
        }
      ],
      "execution_count": 127
    },
    {
      "cell_type": "code",
      "source": "#3\ncheckpoint = df['Coastline (coast/area ratio)'].quantile(0.75)\n",
      "metadata": {
        "trusted": true
      },
      "outputs": [],
      "execution_count": 152
    },
    {
      "cell_type": "code",
      "source": "df_rich = df[df['Coastline (coast/area ratio)'] >= checkpoint]\ndf_poor = df[df['Coastline (coast/area ratio)'] < checkpoint]",
      "metadata": {
        "trusted": true
      },
      "outputs": [],
      "execution_count": 153
    },
    {
      "cell_type": "code",
      "source": "df_rich['Coastline (coast/area ratio)'].mean()",
      "metadata": {
        "trusted": true
      },
      "outputs": [
        {
          "execution_count": 154,
          "output_type": "execute_result",
          "data": {
            "text/plain": "80.50649122807019"
          },
          "metadata": {}
        }
      ],
      "execution_count": 154
    },
    {
      "cell_type": "code",
      "source": "df_poor['Coastline (coast/area ratio)'].mean()",
      "metadata": {
        "trusted": true
      },
      "outputs": [
        {
          "execution_count": 155,
          "output_type": "execute_result",
          "data": {
            "text/plain": "1.2685882352941176"
          },
          "metadata": {}
        }
      ],
      "execution_count": 155
    },
    {
      "cell_type": "code",
      "source": "#4\ncheckpoint = df['Net migration'].quantile(0.75)\n",
      "metadata": {
        "trusted": true
      },
      "outputs": [],
      "execution_count": 156
    },
    {
      "cell_type": "code",
      "source": "df_rich = df[df['Net migration'] >= checkpoint]\ndf_poor = df[df['Net migration'] < checkpoint]",
      "metadata": {
        "trusted": true
      },
      "outputs": [],
      "execution_count": 157
    },
    {
      "cell_type": "code",
      "source": "df_rich['Net migration'].mean()",
      "metadata": {
        "trusted": true
      },
      "outputs": [
        {
          "execution_count": 158,
          "output_type": "execute_result",
          "data": {
            "text/plain": "5.195263157894737"
          },
          "metadata": {}
        }
      ],
      "execution_count": 158
    },
    {
      "cell_type": "code",
      "source": "df_poor['Net migration'].mean()",
      "metadata": {
        "trusted": true
      },
      "outputs": [
        {
          "execution_count": 159,
          "output_type": "execute_result",
          "data": {
            "text/plain": "-1.691033088235294"
          },
          "metadata": {}
        }
      ],
      "execution_count": 159
    },
    {
      "cell_type": "code",
      "source": "#5\ncheckpoint = df['Literacy (%)'].quantile(0.75)\n",
      "metadata": {
        "trusted": true
      },
      "outputs": [],
      "execution_count": 172
    },
    {
      "cell_type": "code",
      "source": "df_rich = df[df['Literacy (%)'] >= checkpoint]\ndf_poor = df[df['Literacy (%)'] < checkpoint]",
      "metadata": {
        "trusted": true
      },
      "outputs": [],
      "execution_count": 166
    },
    {
      "cell_type": "code",
      "source": "df_rich['Literacy (%)'].mean()",
      "metadata": {
        "trusted": true
      },
      "outputs": [
        {
          "execution_count": 162,
          "output_type": "execute_result",
          "data": {
            "text/plain": "98.9603448275862"
          },
          "metadata": {}
        }
      ],
      "execution_count": 162
    },
    {
      "cell_type": "code",
      "source": "df_poor['Literacy (%)'].mean()",
      "metadata": {
        "trusted": true
      },
      "outputs": [
        {
          "execution_count": 167,
          "output_type": "execute_result",
          "data": {
            "text/plain": "77.30526032671783"
          },
          "metadata": {}
        }
      ],
      "execution_count": 167
    },
    {
      "cell_type": "code",
      "source": "#6\ncheckpoint = df['Phones (per 1000)'].quantile(0.75)\n",
      "metadata": {
        "trusted": true
      },
      "outputs": [],
      "execution_count": 168
    },
    {
      "cell_type": "code",
      "source": "df_rich = df[df['Phones (per 1000)'] >= checkpoint]\ndf_poor = df[df['Phones (per 1000)'] < checkpoint]",
      "metadata": {
        "trusted": true
      },
      "outputs": [],
      "execution_count": 169
    },
    {
      "cell_type": "code",
      "source": "df_rich['Phones (per 1000)'].mean()",
      "metadata": {
        "trusted": true
      },
      "outputs": [
        {
          "execution_count": 170,
          "output_type": "execute_result",
          "data": {
            "text/plain": "564.3175438596492"
          },
          "metadata": {}
        }
      ],
      "execution_count": 170
    },
    {
      "cell_type": "code",
      "source": "df_poor['Phones (per 1000)'].mean()",
      "metadata": {
        "trusted": true
      },
      "outputs": [
        {
          "execution_count": 171,
          "output_type": "execute_result",
          "data": {
            "text/plain": "125.99909258770772"
          },
          "metadata": {}
        }
      ],
      "execution_count": 171
    },
    {
      "cell_type": "code",
      "source": "#7\ncheckpoint = df['Infant mortality (per 1000 births)'].quantile(0.25)\n\n",
      "metadata": {
        "trusted": true
      },
      "outputs": [],
      "execution_count": 178
    },
    {
      "cell_type": "code",
      "source": "df_rich = df[df['Infant mortality (per 1000 births)'] >= checkpoint]\ndf_poor = df[df['Infant mortality (per 1000 births)'] < checkpoint]",
      "metadata": {
        "trusted": true
      },
      "outputs": [],
      "execution_count": 179
    },
    {
      "cell_type": "code",
      "source": "df_rich['Infant mortality (per 1000 births)'].mean()",
      "metadata": {
        "trusted": true
      },
      "outputs": [
        {
          "execution_count": 180,
          "output_type": "execute_result",
          "data": {
            "text/plain": "45.09105882352941"
          },
          "metadata": {}
        }
      ],
      "execution_count": 180
    },
    {
      "cell_type": "code",
      "source": "df_poor['Infant mortality (per 1000 births)'].mean()",
      "metadata": {
        "trusted": true
      },
      "outputs": [
        {
          "execution_count": 181,
          "output_type": "execute_result",
          "data": {
            "text/plain": "5.056041666666666"
          },
          "metadata": {}
        }
      ],
      "execution_count": 181
    },
    {
      "cell_type": "code",
      "source": "#8\ncheckpoint = df['Deathrate'].quantile(0.25)\n",
      "metadata": {
        "trusted": true
      },
      "outputs": [],
      "execution_count": 182
    },
    {
      "cell_type": "code",
      "source": "df_rich = df[df['Deathrate'] >= checkpoint]\ndf_poor = df[df['Deathrate'] < checkpoint]",
      "metadata": {
        "trusted": true
      },
      "outputs": [],
      "execution_count": 183
    },
    {
      "cell_type": "code",
      "source": "df_rich['Deathrate'].mean()",
      "metadata": {
        "trusted": true
      },
      "outputs": [
        {
          "execution_count": 184,
          "output_type": "execute_result",
          "data": {
            "text/plain": "10.763325771564231"
          },
          "metadata": {}
        }
      ],
      "execution_count": 184
    },
    {
      "cell_type": "code",
      "source": "df_poor['Deathrate'].mean()",
      "metadata": {
        "trusted": true
      },
      "outputs": [
        {
          "execution_count": 185,
          "output_type": "execute_result",
          "data": {
            "text/plain": "4.702105263157895"
          },
          "metadata": {}
        }
      ],
      "execution_count": 185
    },
    {
      "cell_type": "code",
      "source": "",
      "metadata": {
        "trusted": true
      },
      "outputs": [],
      "execution_count": null
    },
    {
      "cell_type": "code",
      "source": "",
      "metadata": {
        "trusted": true
      },
      "outputs": [],
      "execution_count": null
    }
  ]
}