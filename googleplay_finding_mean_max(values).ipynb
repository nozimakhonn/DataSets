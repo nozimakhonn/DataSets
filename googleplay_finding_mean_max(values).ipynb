{
  "metadata": {
    "kernelspec": {
      "name": "python",
      "display_name": "Python (Pyodide)",
      "language": "python"
    },
    "language_info": {
      "codemirror_mode": {
        "name": "python",
        "version": 3
      },
      "file_extension": ".py",
      "mimetype": "text/x-python",
      "name": "python",
      "nbconvert_exporter": "python",
      "pygments_lexer": "ipython3",
      "version": "3.8"
    }
  },
  "nbformat_minor": 4,
  "nbformat": 4,
  "cells": [
    {
      "cell_type": "code",
      "source": "import pandas as pd",
      "metadata": {
        "trusted": true
      },
      "outputs": [],
      "execution_count": 3
    },
    {
      "cell_type": "code",
      "source": "df = pd.read_csv('GooglePlayStore_cleaned.csv')",
      "metadata": {
        "trusted": true
      },
      "outputs": [],
      "execution_count": 4
    },
    {
      "cell_type": "code",
      "source": "update_year = df[(df['update_year'] == 2018) & (df['rating'] >= 4.0)]['reviews'].mean()\nprint(\"Task 6:\", update_year)",
      "metadata": {
        "trusted": true
      },
      "outputs": [
        {
          "name": "stdout",
          "text": "Task 6: 371628.0400839855\n",
          "output_type": "stream"
        }
      ],
      "execution_count": 7
    },
    {
      "cell_type": "code",
      "source": "paid_category = df[(df['type'] == 'paid') & (df['category'] == 'TRAVEL_AND_LOCAL') & (df['installs'] > 10000)]['price'].min()\nprint(\"Task 7:\", paid_category)",
      "metadata": {
        "trusted": true
      },
      "outputs": [
        {
          "name": "stdout",
          "text": "Task 7: 2.49\n",
          "output_type": "stream"
        }
      ],
      "execution_count": 14
    },
    {
      "cell_type": "code",
      "source": "paid_category = df[(df['type'] == 'paid') & (df['category'] == 'EDUCATION')]['rating'].mean()\nprint(\"Task 8:\", paid_category)",
      "metadata": {
        "trusted": true
      },
      "outputs": [
        {
          "name": "stdout",
          "text": "Task 8: 4.75\n",
          "output_type": "stream"
        }
      ],
      "execution_count": 13
    },
    {
      "cell_type": "code",
      "source": "app_price = df[df['price'] > 5]['reviews'].median()\nprint(\"Task 9:\", app_price)",
      "metadata": {
        "trusted": true
      },
      "outputs": [
        {
          "name": "stdout",
          "text": "Task 9: 51.0\n",
          "output_type": "stream"
        }
      ],
      "execution_count": 18
    },
    {
      "cell_type": "code",
      "source": "free_category = df[(df['type'] == 'free')  & (df['category'] == 'PERSONALIZATION') & (df['rating'] < 3.0)]['installs'].max()\nprint(\"Task 10:\", free_category)",
      "metadata": {
        "trusted": true
      },
      "outputs": [
        {
          "name": "stdout",
          "text": "Task 10: 100\n",
          "output_type": "stream"
        }
      ],
      "execution_count": 24
    },
    {
      "cell_type": "code",
      "source": "app_rating = df[(df['category'] == 'FOOD_AND_DRINK') & (df['rating'] >= 4.0)]['price'].mean()\nprint(\"Task 11:\", app_rating)",
      "metadata": {
        "trusted": true
      },
      "outputs": [
        {
          "name": "stdout",
          "text": "Task 11: 0.09422222222222222\n",
          "output_type": "stream"
        }
      ],
      "execution_count": 34
    },
    {
      "cell_type": "code",
      "source": "free_rating = df[(df['type'] == 'free') & (df['category'] == 'HEALTH_AND_FITNESS')]['size(kb)'].median()\nprint(\"Task 12:\", free_rating)",
      "metadata": {
        "trusted": true
      },
      "outputs": [
        {
          "name": "stdout",
          "text": "Task 12: 18000.0\n",
          "output_type": "stream"
        }
      ],
      "execution_count": 37
    },
    {
      "cell_type": "code",
      "source": "paid_rating = df[(df['type'] == 'paid') & (df['reviews'] > 500)]['rating'].max()\nprint(\"Task 13:\", paid_rating)",
      "metadata": {
        "trusted": true
      },
      "outputs": [
        {
          "name": "stdout",
          "text": "Task 13: 4.9\n",
          "output_type": "stream"
        }
      ],
      "execution_count": 39
    },
    {
      "cell_type": "code",
      "source": "installs_n = df[(df['type'] == 'free') & (df['update_year'] == 2018)]['installs'].mean()\nprint(\"Task 14:\", installs_n)",
      "metadata": {
        "trusted": true
      },
      "outputs": [
        {
          "name": "stdout",
          "text": "Task 14: 11763326.074018126\n",
          "output_type": "stream"
        }
      ],
      "execution_count": 43
    },
    {
      "cell_type": "code",
      "source": "paid_apps = df[(df['type'] == 'paid') & (df['category'] == 'GAME') & (df['rating'] < 4.0)]['installs'].min()\nprint(\"Task 15:\", paid_apps)",
      "metadata": {
        "trusted": true
      },
      "outputs": [
        {
          "name": "stdout",
          "text": "Task 15: 100\n",
          "output_type": "stream"
        }
      ],
      "execution_count": 49
    },
    {
      "cell_type": "code",
      "source": "paid_apps = df[(df['type'] == 'paid') & (df['category'] == 'PRODUCTIVITY')]['price'].mean()\nprint(\"Task 1:\", paid_apps)",
      "metadata": {
        "trusted": true
      },
      "outputs": [
        {
          "name": "stdout",
          "text": "Task 1: 8.961785714285716\n",
          "output_type": "stream"
        }
      ],
      "execution_count": 50
    },
    {
      "cell_type": "code",
      "source": "max_apps = df[(df['type'] == 'paid') & (df['rating'] >= 4.5)]['installs'].max()\nprint(\"Task 2:\", max_apps)",
      "metadata": {
        "trusted": true
      },
      "outputs": [
        {
          "name": "stdout",
          "text": "Task 2: 10000000\n",
          "output_type": "stream"
        }
      ],
      "execution_count": 51
    },
    {
      "cell_type": "code",
      "source": "median_apps = df[(df['type'] == 'paid') & (df['category'] == 'HEALTH_AND_FITNESS')]['price'].median()\nprint(\"Task 3:\", median_apps)",
      "metadata": {
        "trusted": true
      },
      "outputs": [
        {
          "name": "stdout",
          "text": "Task 3: 3.49\n",
          "output_type": "stream"
        }
      ],
      "execution_count": 52
    },
    {
      "cell_type": "code",
      "source": "avr_apps = df[(df['type'] == 'free') & (df['category'] == 'EDUCATION')]['rating'].mean()\nprint(\"Task 4:\", avr_apps)",
      "metadata": {
        "trusted": true
      },
      "outputs": [
        {
          "name": "stdout",
          "text": "Task 4: 4.350434782608696\n",
          "output_type": "stream"
        }
      ],
      "execution_count": 54
    },
    {
      "cell_type": "code",
      "source": "max_apps = df[(df['type'] == 'free') & (df['category'] == 'BOOKS_AND_REFERENCE')]['reviews'].max()\nprint(\"Task 5:\", max_apps)",
      "metadata": {
        "trusted": true
      },
      "outputs": [
        {
          "name": "stdout",
          "text": "Task 5: 2914724\n",
          "output_type": "stream"
        }
      ],
      "execution_count": 55
    },
    {
      "cell_type": "code",
      "source": "paid_apps = df[(df['type'] == 'paid') & (df['installs'] > 100000)]['size(kb)'].median()\nprint(\"Task 6:\", paid_apps)",
      "metadata": {
        "trusted": true
      },
      "outputs": [
        {
          "name": "stdout",
          "text": "Task 6: 26000.0\n",
          "output_type": "stream"
        }
      ],
      "execution_count": 56
    },
    {
      "cell_type": "code",
      "source": "free_apps = df[(df['type'] == 'free') & (df['rating'] >= 4.0)]['installs'].mean()\nprint(\"Task 7:\", free_apps)",
      "metadata": {
        "trusted": true
      },
      "outputs": [
        {
          "name": "stdout",
          "text": "Task 7: 9717093.325502884\n",
          "output_type": "stream"
        }
      ],
      "execution_count": 57
    },
    {
      "cell_type": "code",
      "source": "free_category = df[(df['type'] == 'free') & (df['category'] == 'SOCIAL')]['rating'].max()\nprint(\"Task 8:\", free_category)",
      "metadata": {
        "trusted": true
      },
      "outputs": [
        {
          "name": "stdout",
          "text": "Task 8: 5.0\n",
          "output_type": "stream"
        }
      ],
      "execution_count": 58
    },
    {
      "cell_type": "code",
      "source": "avr_category = df[(df['category'] == 'FINANCE') & (df['rating'] >= 4.0)]['reviews'].mean()\nprint(\"Task 9:\", avr_category)",
      "metadata": {
        "trusted": true
      },
      "outputs": [
        {
          "name": "stdout",
          "text": "Task 9: 44565.69516728625\n",
          "output_type": "stream"
        }
      ],
      "execution_count": 62
    },
    {
      "cell_type": "code",
      "source": "paid_apps = df[(df['type'] == 'paid') & (df['reviews'] > 500)]['price'].min()\nprint(\"Task 10:\", paid_apps)",
      "metadata": {
        "trusted": true
      },
      "outputs": [
        {
          "name": "stdout",
          "text": "Task 10: 0.99\n",
          "output_type": "stream"
        }
      ],
      "execution_count": 63
    },
    {
      "cell_type": "code",
      "source": "t1 = df.groupby(by = 'category')['installs'].max().sort_values(ascending=False)\nprint(\"Task 1:\", t1)",
      "metadata": {
        "trusted": true
      },
      "outputs": [
        {
          "name": "stdout",
          "text": "Task 1: category\nNEWS_AND_MAGAZINES     1000000000\nVIDEO_PLAYERS          1000000000\nBOOKS_AND_REFERENCE    1000000000\nPHOTOGRAPHY            1000000000\nTRAVEL_AND_LOCAL       1000000000\nCOMMUNICATION          1000000000\nTOOLS                  1000000000\nENTERTAINMENT          1000000000\nPRODUCTIVITY           1000000000\nSOCIAL                 1000000000\nGAME                   1000000000\nHEALTH_AND_FITNESS      500000000\nMAPS_AND_NAVIGATION     100000000\nLIFESTYLE               100000000\nSHOPPING                100000000\nFAMILY                  100000000\nFINANCE                 100000000\nPERSONALIZATION         100000000\nSPORTS                  100000000\nEDUCATION               100000000\nBUSINESS                100000000\nART_AND_DESIGN           50000000\nWEATHER                  50000000\nPARENTING                10000000\nLIBRARIES_AND_DEMO       10000000\nAUTO_AND_VEHICLES        10000000\nFOOD_AND_DRINK           10000000\nDATING                   10000000\nCOMICS                   10000000\nBEAUTY                   10000000\nHOUSE_AND_HOME           10000000\nMEDICAL                   5000000\nEVENTS                    5000000\nName: installs, dtype: int64\n",
          "output_type": "stream"
        }
      ],
      "execution_count": 65
    },
    {
      "cell_type": "code",
      "source": "t2 = df.groupby(by='content_rating')['installs'].sum().sort_values(ascending=False)\nprint(\"Task 2:\", t2)",
      "metadata": {
        "trusted": true
      },
      "outputs": [
        {
          "name": "stdout",
          "text": "Task 2: content_rating\nEveryone           52179352961\nTeen               16487275393\nEveryone 10+        4016271795\nMature 17+          2437986878\nAdults only 18+        2000000\nUnrated                  50500\nName: installs, dtype: int64\n",
          "output_type": "stream"
        }
      ],
      "execution_count": 66
    },
    {
      "cell_type": "code",
      "source": "t3 = df.groupby(by = 'category')['size(kb)'].min().sort_values(ascending=False)\nprint(\"Task 3:\", t3)",
      "metadata": {
        "trusted": true
      },
      "outputs": [
        {
          "name": "stdout",
          "text": "Task 3: category\nENTERTAINMENT          3.3\nBEAUTY                 2.2\nCOMICS                 2.2\nHOUSE_AND_HOME         1.9\nTRAVEL_AND_LOCAL       1.9\nFOOD_AND_DRINK         1.7\nPARENTING              1.5\nBOOKS_AND_REFERENCE    1.4\nVIDEO_PLAYERS          1.3\nMAPS_AND_NAVIGATION    1.3\nMEDICAL                1.2\nLIBRARIES_AND_DEMO     1.2\nHEALTH_AND_FITNESS     1.2\nART_AND_DESIGN         1.2\nEDUCATION              1.2\nDATING                 1.2\nGAME                   1.1\nPHOTOGRAPHY            1.1\nBUSINESS               1.1\nSPORTS                 1.1\nSOCIAL                 1.1\nSHOPPING               1.1\nPRODUCTIVITY           1.1\nPERSONALIZATION        1.1\nFINANCE                1.1\nEVENTS                 1.1\nAUTO_AND_VEHICLES      1.1\nWEATHER                1.1\nNEWS_AND_MAGAZINES     1.0\nLIFESTYLE              1.0\nFAMILY                 1.0\nTOOLS                  1.0\nCOMMUNICATION          1.0\nName: size(kb), dtype: float64\n",
          "output_type": "stream"
        }
      ],
      "execution_count": 67
    },
    {
      "cell_type": "code",
      "source": "t4 = df.groupby(by='content_rating')['size(kb)'].mean().sort_values(ascending=False)\nprint(\"Task 4:\", t4)",
      "metadata": {
        "trusted": true
      },
      "outputs": [
        {
          "name": "stdout",
          "text": "Task 4: content_rating\nEveryone 10+       34022.306231\nTeen               27286.502727\nMature 17+         22719.741169\nAdults only 18+    19792.365279\nEveryone           16355.870681\nUnrated                4.450000\nName: size(kb), dtype: float64\n",
          "output_type": "stream"
        }
      ],
      "execution_count": 68
    },
    {
      "cell_type": "code",
      "source": "t5 = df.groupby(by='type')['reviews'].median().sort_values(ascending=False)\nprint(\"Task 5:\", t5)",
      "metadata": {
        "trusted": true
      },
      "outputs": [
        {
          "name": "stdout",
          "text": "Task 5: type\nfree    1370.5\npaid      88.0\nName: reviews, dtype: float64\n",
          "output_type": "stream"
        }
      ],
      "execution_count": 69
    },
    {
      "cell_type": "code",
      "source": "t6 = df.groupby(by='category')['rating'].min().sort_values(ascending=False)\nprint(\"Task 6:\", t6)",
      "metadata": {
        "trusted": true
      },
      "outputs": [
        {
          "name": "stdout",
          "text": "Task 6: category\nEDUCATION              3.5\nWEATHER                3.3\nART_AND_DESIGN         3.2\nLIBRARIES_AND_DEMO     3.1\nBEAUTY                 3.1\nENTERTAINMENT          3.0\nEVENTS                 2.9\nHOUSE_AND_HOME         2.8\nCOMICS                 2.8\nBOOKS_AND_REFERENCE    2.7\nPERSONALIZATION        2.5\nTRAVEL_AND_LOCAL       2.2\nAUTO_AND_VEHICLES      2.1\nPARENTING              2.0\nPHOTOGRAPHY            2.0\nSOCIAL                 1.9\nMAPS_AND_NAVIGATION    1.9\nVIDEO_PLAYERS          1.8\nNEWS_AND_MAGAZINES     1.7\nFOOD_AND_DRINK         1.7\nSHOPPING               1.6\nSPORTS                 1.5\nLIFESTYLE              1.5\nHEALTH_AND_FITNESS     1.4\nFAMILY                 1.0\nMEDICAL                1.0\nPRODUCTIVITY           1.0\nBUSINESS               1.0\nCOMMUNICATION          1.0\nTOOLS                  1.0\nGAME                   1.0\nFINANCE                1.0\nDATING                 1.0\nName: rating, dtype: float64\n",
          "output_type": "stream"
        }
      ],
      "execution_count": 70
    },
    {
      "cell_type": "code",
      "source": "t7 = df.groupby(by='rating')['size(kb)'].max().sort_values(ascending=False)\nprint(\"Task 7:\", t7)",
      "metadata": {
        "trusted": true
      },
      "outputs": [
        {
          "name": "stdout",
          "text": "Task 7: rating\n4.0    100000.0\n3.6    100000.0\n4.7    100000.0\n4.6    100000.0\n4.5    100000.0\n4.4    100000.0\n4.3    100000.0\n4.1     99000.0\n4.2     99000.0\n3.9     98000.0\n3.3     98000.0\n2.5     97000.0\n3.8     96000.0\n3.7     96000.0\n4.8     96000.0\n3.5     96000.0\n5.0     96000.0\n3.0     94000.0\n3.1     94000.0\n3.4     92000.0\n2.3     88000.0\n2.7     87000.0\n2.9     82000.0\n4.9     76000.0\n2.8     72000.0\n2.4     71000.0\n1.9     65000.0\n3.2     65000.0\n2.6     60000.0\n1.0     41000.0\n1.6     36000.0\n2.1     35000.0\n2.0     35000.0\n2.2     34000.0\n1.2     27000.0\n1.5     26000.0\n1.7     23000.0\n1.8     18000.0\n1.4     13000.0\nName: size(kb), dtype: float64\n",
          "output_type": "stream"
        }
      ],
      "execution_count": 72
    },
    {
      "cell_type": "code",
      "source": "t8 = df.groupby(by='category')['installs'].min().sort_values(ascending=False)\nprint(\"Task 8:\", t8)",
      "metadata": {
        "trusted": true
      },
      "outputs": [
        {
          "name": "stdout",
          "text": "Task 8: category\nENTERTAINMENT          10000\nEDUCATION               1000\nBEAUTY                    50\nCOMICS                    50\nWEATHER                   10\nVIDEO_PLAYERS             10\nPARENTING                 10\nMAPS_AND_NAVIGATION       10\nLIBRARIES_AND_DEMO        10\nSHOPPING                   5\nPHOTOGRAPHY                5\nHEALTH_AND_FITNESS         1\nTOOLS                      1\nSPORTS                     1\nAUTO_AND_VEHICLES          1\nHOUSE_AND_HOME             1\nGAME                       1\nFOOD_AND_DRINK             1\nBOOKS_AND_REFERENCE        1\nCOMMUNICATION              1\nDATING                     1\nEVENTS                     1\nFAMILY                     0\nPERSONALIZATION            0\nNEWS_AND_MAGAZINES         0\nPRODUCTIVITY               0\nMEDICAL                    0\nSOCIAL                     0\nFINANCE                    0\nBUSINESS                   0\nTRAVEL_AND_LOCAL           0\nLIFESTYLE                  0\nART_AND_DESIGN             0\nName: installs, dtype: int64\n",
          "output_type": "stream"
        }
      ],
      "execution_count": 73
    },
    {
      "cell_type": "code",
      "source": "t9 = df.groupby(by='category')['price'].mean().sort_values(ascending=False)\nprint(\"Task 9:\", t9)",
      "metadata": {
        "trusted": true
      },
      "outputs": [
        {
          "name": "stdout",
          "text": "Task 9: category\nFINANCE                8.408203\nLIFESTYLE              6.398022\nMEDICAL                2.520759\nEVENTS                 1.718594\nFAMILY                 1.310683\nPRODUCTIVITY           0.670936\nBOOKS_AND_REFERENCE    0.539505\nPHOTOGRAPHY            0.420925\nBUSINESS               0.417357\nWEATHER                0.410380\nPERSONALIZATION        0.400213\nTOOLS                  0.323156\nSPORTS                 0.307692\nGAME                   0.296465\nCOMMUNICATION          0.263937\nTRAVEL_AND_LOCAL       0.228082\nHEALTH_AND_FITNESS     0.223438\nMAPS_AND_NAVIGATION    0.205725\nDATING                 0.160468\nPARENTING              0.159667\nAUTO_AND_VEHICLES      0.158471\nEDUCATION              0.150924\nART_AND_DESIGN         0.093281\nENTERTAINMENT          0.078235\nFOOD_AND_DRINK         0.075714\nSOCIAL                 0.066820\nVIDEO_PLAYERS          0.064172\nSHOPPING               0.027129\nNEWS_AND_MAGAZINES     0.015669\nLIBRARIES_AND_DEMO     0.011786\nCOMICS                 0.000000\nBEAUTY                 0.000000\nHOUSE_AND_HOME         0.000000\nName: price, dtype: float64\n",
          "output_type": "stream"
        }
      ],
      "execution_count": 74
    },
    {
      "cell_type": "code",
      "source": "t10 = df.groupby(by='type')['size(kb)'].median()\nprint(\"Task 10:\", t10)",
      "metadata": {
        "trusted": true
      },
      "outputs": [],
      "execution_count": null
    }
  ]
}