{
  "metadata": {
    "kernelspec": {
      "name": "python",
      "display_name": "Python (Pyodide)",
      "language": "python"
    },
    "language_info": {
      "codemirror_mode": {
        "name": "python",
        "version": 3
      },
      "file_extension": ".py",
      "mimetype": "text/x-python",
      "name": "python",
      "nbconvert_exporter": "python",
      "pygments_lexer": "ipython3",
      "version": "3.8"
    }
  },
  "nbformat_minor": 4,
  "nbformat": 4,
  "cells": [
    {
      "cell_type": "code",
      "source": "import pandas as pd",
      "metadata": {
        "trusted": true
      },
      "outputs": [],
      "execution_count": 3
    },
    {
      "cell_type": "code",
      "source": "df = pd.read_csv('GooglePlayStore_cleaned.csv')",
      "metadata": {
        "trusted": true
      },
      "outputs": [],
      "execution_count": 2
    },
    {
      "cell_type": "code",
      "source": "temp = df['type'].value_counts()\ntemp['free'] / temp['paid']",
      "metadata": {
        "trusted": true
      },
      "outputs": [
        {
          "execution_count": 4,
          "output_type": "execute_result",
          "data": {
            "text/plain": "11.775132275132275"
          },
          "metadata": {}
        }
      ],
      "execution_count": 4
    },
    {
      "cell_type": "code",
      "source": "df['category'].value_counts().sort_values(ascending=True)",
      "metadata": {
        "trusted": true
      },
      "outputs": [
        {
          "execution_count": 5,
          "output_type": "execute_result",
          "data": {
            "text/plain": "category\nBEAUTY                   53\nCOMICS                   56\nPARENTING                60\nART_AND_DESIGN           64\nEVENTS                   64\nHOUSE_AND_HOME           74\nWEATHER                  79\nLIBRARIES_AND_DEMO       84\nAUTO_AND_VEHICLES        85\nENTERTAINMENT           102\nFOOD_AND_DRINK          112\nEDUCATION               119\nMAPS_AND_NAVIGATION     131\nVIDEO_PLAYERS           163\nDATING                  171\nSHOPPING                202\nTRAVEL_AND_LOCAL        219\nBOOKS_AND_REFERENCE     222\nSOCIAL                  239\nNEWS_AND_MAGAZINES      254\nPHOTOGRAPHY             281\nHEALTH_AND_FITNESS      288\nCOMMUNICATION           315\nSPORTS                  325\nFINANCE                 345\nLIFESTYLE               369\nPRODUCTIVITY            374\nPERSONALIZATION         376\nMEDICAL                 395\nBUSINESS                420\nTOOLS                   827\nGAME                    959\nFAMILY                 1831\nName: count, dtype: int64"
          },
          "metadata": {}
        }
      ],
      "execution_count": 5
    },
    {
      "cell_type": "code",
      "source": "df.groupby(by = 'category')['rating'].mean().sort_values(ascending=False)",
      "metadata": {
        "trusted": true
      },
      "outputs": [
        {
          "execution_count": 9,
          "output_type": "execute_result",
          "data": {
            "text/plain": "category\nEVENTS                 4.395313\nEDUCATION              4.363866\nART_AND_DESIGN         4.354687\nBOOKS_AND_REFERENCE    4.334234\nPERSONALIZATION        4.325532\nPARENTING              4.300000\nBEAUTY                 4.283019\nSOCIAL                 4.255230\nHEALTH_AND_FITNESS     4.251736\nGAME                   4.249948\nWEATHER                4.248101\nSHOPPING               4.237624\nSPORTS                 4.232923\nLIBRARIES_AND_DEMO     4.207143\nPRODUCTIVITY           4.206150\nAUTO_AND_VEHICLES      4.205882\nMEDICAL                4.202025\nFAMILY                 4.194320\nFOOD_AND_DRINK         4.192857\nCOMICS                 4.185714\nHOUSE_AND_HOME         4.174324\nBUSINESS               4.173810\nPHOTOGRAPHY            4.166548\nNEWS_AND_MAGAZINES     4.156693\nCOMMUNICATION          4.154921\nFINANCE                4.138551\nENTERTAINMENT          4.135294\nLIFESTYLE              4.131436\nTRAVEL_AND_LOCAL       4.103196\nTOOLS                  4.073881\nVIDEO_PLAYERS          4.068098\nMAPS_AND_NAVIGATION    4.062595\nDATING                 4.041520\nName: rating, dtype: float64"
          },
          "metadata": {}
        }
      ],
      "execution_count": 9
    },
    {
      "cell_type": "code",
      "source": "df.groupby(by='content_rating')['installs'].sum().sort_values(ascending=False)",
      "metadata": {
        "trusted": true
      },
      "outputs": [
        {
          "execution_count": 10,
          "output_type": "execute_result",
          "data": {
            "text/plain": "content_rating\nEveryone           52179352961\nTeen               16487275393\nEveryone 10+        4016271795\nMature 17+          2437986878\nAdults only 18+        2000000\nUnrated                  50500\nName: installs, dtype: int64"
          },
          "metadata": {}
        }
      ],
      "execution_count": 10
    },
    {
      "cell_type": "code",
      "source": "df.groupby(by='category')['price'].max().sort_values(ascending=False)",
      "metadata": {
        "trusted": true
      },
      "outputs": [
        {
          "execution_count": 11,
          "output_type": "execute_result",
          "data": {
            "text/plain": "category\nLIFESTYLE              400.00\nFINANCE                399.99\nFAMILY                 399.99\nMEDICAL                200.00\nPRODUCTIVITY           154.99\nEVENTS                 109.99\nBUSINESS                89.99\nPHOTOGRAPHY             29.99\nSPORTS                  29.99\nTOOLS                   25.99\nCOMMUNICATION           19.99\nGAME                    17.99\nSOCIAL                  13.99\nMAPS_AND_NAVIGATION     11.99\nHEALTH_AND_FITNESS       9.99\nAUTO_AND_VEHICLES        9.99\nPERSONALIZATION          9.99\nTRAVEL_AND_LOCAL         8.99\nDATING                   7.99\nWEATHER                  6.99\nBOOKS_AND_REFERENCE      6.49\nEDUCATION                5.99\nVIDEO_PLAYERS            5.99\nFOOD_AND_DRINK           4.99\nENTERTAINMENT            4.99\nPARENTING                4.99\nNEWS_AND_MAGAZINES       2.99\nSHOPPING                 2.99\nART_AND_DESIGN           1.99\nLIBRARIES_AND_DEMO       0.99\nCOMICS                   0.00\nBEAUTY                   0.00\nHOUSE_AND_HOME           0.00\nName: price, dtype: float64"
          },
          "metadata": {}
        }
      ],
      "execution_count": 11
    },
    {
      "cell_type": "code",
      "source": "df.groupby(by='size(kb)').min()",
      "metadata": {
        "trusted": true
      },
      "outputs": [
        {
          "execution_count": 18,
          "output_type": "execute_result",
          "data": {
            "text/plain": "          Unnamed: 0                                               app  \\\nsize(kb)                                                                 \n1.0             5314                              BL PowerPoint Remote   \n1.1               87                                       Aj Di Awaaz   \n1.2               43                    500 AP World History Questions   \n1.3             2137                                        AP Planner   \n1.4              467                          17th Edition Cable Sizer   \n...              ...                                               ...   \n96000.0         1501                         AP Art History Flashcards   \n97000.0          661                               Angry Birds Classic   \n98000.0         1463                                      BZ Zombie VR   \n99000.0         1323                                      AI Benchmark   \n100000.0         932  Car Crash III Beam DH Real Damage Simulator 2018   \n\n                     category  rating  reviews  installs  type  price  \\\nsize(kb)                                                                \n1.0             COMMUNICATION     2.3        1        10  free    0.0   \n1.1         AUTO_AND_VEHICLES     3.2        0        10  free    0.0   \n1.2            ART_AND_DESIGN     2.4        0         0  free    0.0   \n1.3                  BUSINESS     2.7        0        10  free    0.0   \n1.4       BOOKS_AND_REFERENCE     2.8        0         0  free    0.0   \n...                       ...     ...      ...       ...   ...    ...   \n96000.0              BUSINESS     3.3        1        10  free    0.0   \n97000.0     AUTO_AND_VEHICLES     2.5       22      1000  free    0.0   \n98000.0              BUSINESS     3.3        1        10  free    0.0   \n99000.0                FAMILY     4.0        0        50  free    0.0   \n100000.0               FAMILY     3.6       11       500  free    0.0   \n\n         content_rating           genres    current_ver android_ver  \\\nsize(kb)                                                              \n1.0            Everyone    Communication            1.0         2.1   \n1.1            Everyone  Auto & Vehicles            1.0         1.6   \n1.2            Everyone     Art & Design            1.0         1.6   \n1.3            Everyone           Arcade  0.1.187945513         1.5   \n1.4            Everyone           Arcade            0.1         1.5   \n...                 ...              ...            ...         ...   \n96000.0        Everyone           Action            1.0         2.3   \n97000.0        Everyone           Arcade            1.0       2.3.3   \n98000.0        Everyone           Action          0.4.4         4.0   \n99000.0        Everyone           Action            0.1         2.3   \n100000.0       Everyone           Action           1.03         4.0   \n\n          update_month  update_year  \nsize(kb)                             \n1.0                  2         2012  \n1.1                  1         2011  \n1.2                  1         2013  \n1.3                  1         2013  \n1.4                  1         2013  \n...                ...          ...  \n96000.0              1         2016  \n97000.0              1         2016  \n98000.0              1         2017  \n99000.0              1         2016  \n100000.0             1         2018  \n\n[460 rows x 14 columns]",
            "text/html": "<div>\n<style scoped>\n    .dataframe tbody tr th:only-of-type {\n        vertical-align: middle;\n    }\n\n    .dataframe tbody tr th {\n        vertical-align: top;\n    }\n\n    .dataframe thead th {\n        text-align: right;\n    }\n</style>\n<table border=\"1\" class=\"dataframe\">\n  <thead>\n    <tr style=\"text-align: right;\">\n      <th></th>\n      <th>Unnamed: 0</th>\n      <th>app</th>\n      <th>category</th>\n      <th>rating</th>\n      <th>reviews</th>\n      <th>installs</th>\n      <th>type</th>\n      <th>price</th>\n      <th>content_rating</th>\n      <th>genres</th>\n      <th>current_ver</th>\n      <th>android_ver</th>\n      <th>update_month</th>\n      <th>update_year</th>\n    </tr>\n    <tr>\n      <th>size(kb)</th>\n      <th></th>\n      <th></th>\n      <th></th>\n      <th></th>\n      <th></th>\n      <th></th>\n      <th></th>\n      <th></th>\n      <th></th>\n      <th></th>\n      <th></th>\n      <th></th>\n      <th></th>\n      <th></th>\n    </tr>\n  </thead>\n  <tbody>\n    <tr>\n      <th>1.0</th>\n      <td>5314</td>\n      <td>BL PowerPoint Remote</td>\n      <td>COMMUNICATION</td>\n      <td>2.3</td>\n      <td>1</td>\n      <td>10</td>\n      <td>free</td>\n      <td>0.0</td>\n      <td>Everyone</td>\n      <td>Communication</td>\n      <td>1.0</td>\n      <td>2.1</td>\n      <td>2</td>\n      <td>2012</td>\n    </tr>\n    <tr>\n      <th>1.1</th>\n      <td>87</td>\n      <td>Aj Di Awaaz</td>\n      <td>AUTO_AND_VEHICLES</td>\n      <td>3.2</td>\n      <td>0</td>\n      <td>10</td>\n      <td>free</td>\n      <td>0.0</td>\n      <td>Everyone</td>\n      <td>Auto &amp; Vehicles</td>\n      <td>1.0</td>\n      <td>1.6</td>\n      <td>1</td>\n      <td>2011</td>\n    </tr>\n    <tr>\n      <th>1.2</th>\n      <td>43</td>\n      <td>500 AP World History Questions</td>\n      <td>ART_AND_DESIGN</td>\n      <td>2.4</td>\n      <td>0</td>\n      <td>0</td>\n      <td>free</td>\n      <td>0.0</td>\n      <td>Everyone</td>\n      <td>Art &amp; Design</td>\n      <td>1.0</td>\n      <td>1.6</td>\n      <td>1</td>\n      <td>2013</td>\n    </tr>\n    <tr>\n      <th>1.3</th>\n      <td>2137</td>\n      <td>AP Planner</td>\n      <td>BUSINESS</td>\n      <td>2.7</td>\n      <td>0</td>\n      <td>10</td>\n      <td>free</td>\n      <td>0.0</td>\n      <td>Everyone</td>\n      <td>Arcade</td>\n      <td>0.1.187945513</td>\n      <td>1.5</td>\n      <td>1</td>\n      <td>2013</td>\n    </tr>\n    <tr>\n      <th>1.4</th>\n      <td>467</td>\n      <td>17th Edition Cable Sizer</td>\n      <td>BOOKS_AND_REFERENCE</td>\n      <td>2.8</td>\n      <td>0</td>\n      <td>0</td>\n      <td>free</td>\n      <td>0.0</td>\n      <td>Everyone</td>\n      <td>Arcade</td>\n      <td>0.1</td>\n      <td>1.5</td>\n      <td>1</td>\n      <td>2013</td>\n    </tr>\n    <tr>\n      <th>...</th>\n      <td>...</td>\n      <td>...</td>\n      <td>...</td>\n      <td>...</td>\n      <td>...</td>\n      <td>...</td>\n      <td>...</td>\n      <td>...</td>\n      <td>...</td>\n      <td>...</td>\n      <td>...</td>\n      <td>...</td>\n      <td>...</td>\n      <td>...</td>\n    </tr>\n    <tr>\n      <th>96000.0</th>\n      <td>1501</td>\n      <td>AP Art History Flashcards</td>\n      <td>BUSINESS</td>\n      <td>3.3</td>\n      <td>1</td>\n      <td>10</td>\n      <td>free</td>\n      <td>0.0</td>\n      <td>Everyone</td>\n      <td>Action</td>\n      <td>1.0</td>\n      <td>2.3</td>\n      <td>1</td>\n      <td>2016</td>\n    </tr>\n    <tr>\n      <th>97000.0</th>\n      <td>661</td>\n      <td>Angry Birds Classic</td>\n      <td>AUTO_AND_VEHICLES</td>\n      <td>2.5</td>\n      <td>22</td>\n      <td>1000</td>\n      <td>free</td>\n      <td>0.0</td>\n      <td>Everyone</td>\n      <td>Arcade</td>\n      <td>1.0</td>\n      <td>2.3.3</td>\n      <td>1</td>\n      <td>2016</td>\n    </tr>\n    <tr>\n      <th>98000.0</th>\n      <td>1463</td>\n      <td>BZ Zombie VR</td>\n      <td>BUSINESS</td>\n      <td>3.3</td>\n      <td>1</td>\n      <td>10</td>\n      <td>free</td>\n      <td>0.0</td>\n      <td>Everyone</td>\n      <td>Action</td>\n      <td>0.4.4</td>\n      <td>4.0</td>\n      <td>1</td>\n      <td>2017</td>\n    </tr>\n    <tr>\n      <th>99000.0</th>\n      <td>1323</td>\n      <td>AI Benchmark</td>\n      <td>FAMILY</td>\n      <td>4.0</td>\n      <td>0</td>\n      <td>50</td>\n      <td>free</td>\n      <td>0.0</td>\n      <td>Everyone</td>\n      <td>Action</td>\n      <td>0.1</td>\n      <td>2.3</td>\n      <td>1</td>\n      <td>2016</td>\n    </tr>\n    <tr>\n      <th>100000.0</th>\n      <td>932</td>\n      <td>Car Crash III Beam DH Real Damage Simulator 2018</td>\n      <td>FAMILY</td>\n      <td>3.6</td>\n      <td>11</td>\n      <td>500</td>\n      <td>free</td>\n      <td>0.0</td>\n      <td>Everyone</td>\n      <td>Action</td>\n      <td>1.03</td>\n      <td>4.0</td>\n      <td>1</td>\n      <td>2018</td>\n    </tr>\n  </tbody>\n</table>\n<p>460 rows × 14 columns</p>\n</div>"
          },
          "metadata": {}
        }
      ],
      "execution_count": 18
    },
    {
      "cell_type": "code",
      "source": "df.groupby(by='category')['reviews'].median()",
      "metadata": {
        "trusted": true
      },
      "outputs": [
        {
          "execution_count": 36,
          "output_type": "execute_result",
          "data": {
            "text/plain": "category\nART_AND_DESIGN           525.0\nAUTO_AND_VEHICLES        348.0\nBEAUTY                   187.0\nBOOKS_AND_REFERENCE      151.0\nBUSINESS                  15.0\nCOMICS                  1576.5\nCOMMUNICATION           1711.0\nDATING                   277.0\nEDUCATION              13791.0\nENTERTAINMENT          37884.5\nEVENTS                    47.0\nFAMILY                   656.0\nFINANCE                  413.0\nFOOD_AND_DRINK          3537.5\nGAME                   28510.0\nHEALTH_AND_FITNESS      2882.5\nHOUSE_AND_HOME          3223.5\nLIBRARIES_AND_DEMO       130.5\nLIFESTYLE                209.0\nMAPS_AND_NAVIGATION     1240.0\nMEDICAL                   25.0\nNEWS_AND_MAGAZINES       521.0\nPARENTING                528.5\nPERSONALIZATION          242.5\nPHOTOGRAPHY            26252.0\nPRODUCTIVITY            1161.0\nSHOPPING               11076.5\nSOCIAL                  3782.0\nSPORTS                  1660.0\nTOOLS                    478.0\nTRAVEL_AND_LOCAL        1090.0\nVIDEO_PLAYERS           4585.0\nWEATHER                11297.0\nName: reviews, dtype: float64"
          },
          "metadata": {}
        }
      ],
      "execution_count": 36
    },
    {
      "cell_type": "code",
      "source": "df.groupby(by = 'rating')['price'].mean().sort_values(ascending=False)",
      "metadata": {
        "trusted": true
      },
      "outputs": [
        {
          "execution_count": 34,
          "output_type": "execute_result",
          "data": {
            "text/plain": "rating\n2.9    9.176667\n3.8    5.500175\n3.6    5.008443\n3.5    3.041026\n4.0    1.743255\n4.1    1.508615\n4.3    1.309724\n4.4    0.730872\n2.6    0.707500\n4.8    0.659095\n3.4    0.627381\n1.7    0.623750\n4.6    0.540908\n4.7    0.510000\n2.0    0.382500\n5.0    0.376494\n4.5    0.355153\n2.7    0.346957\n4.2    0.329556\n2.4    0.314737\n3.0    0.313827\n1.0    0.280000\n3.3    0.274500\n4.9    0.222824\n3.9    0.200919\n2.5    0.199500\n3.1    0.187826\n1.8    0.186250\n2.8    0.174250\n3.7    0.155759\n2.3    0.124000\n3.2    0.079048\n2.1    0.000000\n1.9    0.000000\n1.6    0.000000\n1.5    0.000000\n1.4    0.000000\n1.2    0.000000\n2.2    0.000000\nName: price, dtype: float64"
          },
          "metadata": {}
        }
      ],
      "execution_count": 34
    },
    {
      "cell_type": "code",
      "source": "df.groupby(by='type')['size(kb)'].median()",
      "metadata": {
        "trusted": true
      },
      "outputs": [
        {
          "execution_count": 35,
          "output_type": "execute_result",
          "data": {
            "text/plain": "type\nfree    16000.0\npaid    12000.0\nName: size(kb), dtype: float64"
          },
          "metadata": {}
        }
      ],
      "execution_count": 35
    },
    {
      "cell_type": "code",
      "source": "df.groupby(by='type')['reviews'].mean().sort_values(ascending=False)",
      "metadata": {
        "trusted": true
      },
      "outputs": [
        {
          "execution_count": 37,
          "output_type": "execute_result",
          "data": {
            "text/plain": "type\nfree    234270.002134\npaid      8724.887566\nName: reviews, dtype: float64"
          },
          "metadata": {}
        }
      ],
      "execution_count": 37
    },
    {
      "cell_type": "code",
      "source": "t1 = df.groupby(by='type')['size(kb)'].min()\nprint(\"4\", t1)",
      "metadata": {
        "trusted": true
      },
      "outputs": [
        {
          "name": "stdout",
          "text": "4 type\nfree    1.0\npaid    1.0\nName: size(kb), dtype: float64\n",
          "output_type": "stream"
        }
      ],
      "execution_count": 43
    },
    {
      "cell_type": "code",
      "source": "t2 = df.groupby(by='category')['reviews'].median()\nprint(\"5\", t2)",
      "metadata": {
        "trusted": true
      },
      "outputs": [
        {
          "name": "stdout",
          "text": "5 category\nART_AND_DESIGN           525.0\nAUTO_AND_VEHICLES        348.0\nBEAUTY                   187.0\nBOOKS_AND_REFERENCE      151.0\nBUSINESS                  15.0\nCOMICS                  1576.5\nCOMMUNICATION           1711.0\nDATING                   277.0\nEDUCATION              13791.0\nENTERTAINMENT          37884.5\nEVENTS                    47.0\nFAMILY                   656.0\nFINANCE                  413.0\nFOOD_AND_DRINK          3537.5\nGAME                   28510.0\nHEALTH_AND_FITNESS      2882.5\nHOUSE_AND_HOME          3223.5\nLIBRARIES_AND_DEMO       130.5\nLIFESTYLE                209.0\nMAPS_AND_NAVIGATION     1240.0\nMEDICAL                   25.0\nNEWS_AND_MAGAZINES       521.0\nPARENTING                528.5\nPERSONALIZATION          242.5\nPHOTOGRAPHY            26252.0\nPRODUCTIVITY            1161.0\nSHOPPING               11076.5\nSOCIAL                  3782.0\nSPORTS                  1660.0\nTOOLS                    478.0\nTRAVEL_AND_LOCAL        1090.0\nVIDEO_PLAYERS           4585.0\nWEATHER                11297.0\nName: reviews, dtype: float64\n",
          "output_type": "stream"
        }
      ],
      "execution_count": 44
    },
    {
      "cell_type": "code",
      "source": "t3 = df.groupby(by = 'rating')['price'].mean().sort_values(ascending=False)\nprint(\"6\", t3)",
      "metadata": {
        "trusted": true
      },
      "outputs": [
        {
          "name": "stdout",
          "text": "6 rating\n2.9    9.176667\n3.8    5.500175\n3.6    5.008443\n3.5    3.041026\n4.0    1.743255\n4.1    1.508615\n4.3    1.309724\n4.4    0.730872\n2.6    0.707500\n4.8    0.659095\n3.4    0.627381\n1.7    0.623750\n4.6    0.540908\n4.7    0.510000\n2.0    0.382500\n5.0    0.376494\n4.5    0.355153\n2.7    0.346957\n4.2    0.329556\n2.4    0.314737\n3.0    0.313827\n1.0    0.280000\n3.3    0.274500\n4.9    0.222824\n3.9    0.200919\n2.5    0.199500\n3.1    0.187826\n1.8    0.186250\n2.8    0.174250\n3.7    0.155759\n2.3    0.124000\n3.2    0.079048\n2.1    0.000000\n1.9    0.000000\n1.6    0.000000\n1.5    0.000000\n1.4    0.000000\n1.2    0.000000\n2.2    0.000000\nName: price, dtype: float64\n",
          "output_type": "stream"
        }
      ],
      "execution_count": 45
    },
    {
      "cell_type": "code",
      "source": "t5 = df.groupby(by='type')['size(kb)'].median()\nprint(\"7\", t5)",
      "metadata": {
        "trusted": true
      },
      "outputs": [
        {
          "name": "stdout",
          "text": "7 type\nfree    16000.0\npaid    12000.0\nName: size(kb), dtype: float64\n",
          "output_type": "stream"
        }
      ],
      "execution_count": 46
    },
    {
      "cell_type": "code",
      "source": "",
      "metadata": {
        "trusted": true
      },
      "outputs": [],
      "execution_count": null
    }
  ]
}